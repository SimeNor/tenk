{
  "nbformat": 4,
  "nbformat_minor": 2,
  "metadata": {
    "orig_nbformat": 4,
    "language_info": {
      "name": "python",
      "version": "3.6.8",
      "mimetype": "text/x-python",
      "codemirror_mode": {
        "name": "ipython",
        "version": 3
      },
      "pygments_lexer": "ipython3",
      "nbconvert_exporter": "python",
      "file_extension": ".py"
    },
    "kernelspec": {
      "name": "python3",
      "display_name": "Python 3.6.8 64-bit ('tenk_env': venv)"
    },
    "interpreter": {
      "hash": "57429d3b74827d702e8e2e5791ec7a19d83902ac9a4758c7d15f370d77f1cb81"
    },
    "colab": {
      "name": "TENK_FaceID.ipynb",
      "provenance": []
    },
    "accelerator": "GPU",
    "widgets": {
      "application/vnd.jupyter.widget-state+json": {
        "f0f91f3fca264066a6b43768b869c33d": {
          "model_module": "@jupyter-widgets/controls",
          "model_name": "HBoxModel",
          "state": {
            "_view_name": "HBoxView",
            "_dom_classes": [],
            "_model_name": "HBoxModel",
            "_view_module": "@jupyter-widgets/controls",
            "_model_module_version": "1.5.0",
            "_view_count": null,
            "_view_module_version": "1.5.0",
            "box_style": "",
            "layout": "IPY_MODEL_0dbf5c8cb9914421ad486b84b56b6bc6",
            "_model_module": "@jupyter-widgets/controls",
            "children": [
              "IPY_MODEL_e1476e3f63ac48929fd2f5f4ba93aecb",
              "IPY_MODEL_30465cdaf7f2484c93a28575bd950173"
            ]
          }
        },
        "0dbf5c8cb9914421ad486b84b56b6bc6": {
          "model_module": "@jupyter-widgets/base",
          "model_name": "LayoutModel",
          "state": {
            "_view_name": "LayoutView",
            "grid_template_rows": null,
            "right": null,
            "justify_content": null,
            "_view_module": "@jupyter-widgets/base",
            "overflow": null,
            "_model_module_version": "1.2.0",
            "_view_count": null,
            "flex_flow": null,
            "width": null,
            "min_width": null,
            "border": null,
            "align_items": null,
            "bottom": null,
            "_model_module": "@jupyter-widgets/base",
            "top": null,
            "grid_column": null,
            "overflow_y": null,
            "overflow_x": null,
            "grid_auto_flow": null,
            "grid_area": null,
            "grid_template_columns": null,
            "flex": null,
            "_model_name": "LayoutModel",
            "justify_items": null,
            "grid_row": null,
            "max_height": null,
            "align_content": null,
            "visibility": null,
            "align_self": null,
            "height": null,
            "min_height": null,
            "padding": null,
            "grid_auto_rows": null,
            "grid_gap": null,
            "max_width": null,
            "order": null,
            "_view_module_version": "1.2.0",
            "grid_template_areas": null,
            "object_position": null,
            "object_fit": null,
            "grid_auto_columns": null,
            "margin": null,
            "display": null,
            "left": null
          }
        },
        "e1476e3f63ac48929fd2f5f4ba93aecb": {
          "model_module": "@jupyter-widgets/controls",
          "model_name": "FloatProgressModel",
          "state": {
            "_view_name": "ProgressView",
            "style": "IPY_MODEL_f6c2111620954f14b3911532d5455474",
            "_dom_classes": [],
            "description": "100%",
            "_model_name": "FloatProgressModel",
            "bar_style": "success",
            "max": 111898327,
            "_view_module": "@jupyter-widgets/controls",
            "_model_module_version": "1.5.0",
            "value": 111898327,
            "_view_count": null,
            "_view_module_version": "1.5.0",
            "orientation": "horizontal",
            "min": 0,
            "description_tooltip": null,
            "_model_module": "@jupyter-widgets/controls",
            "layout": "IPY_MODEL_de19505fa6334fabba3bbcb541d0833b"
          }
        },
        "30465cdaf7f2484c93a28575bd950173": {
          "model_module": "@jupyter-widgets/controls",
          "model_name": "HTMLModel",
          "state": {
            "_view_name": "HTMLView",
            "style": "IPY_MODEL_913b474ee37949a68ade35818bbc9be3",
            "_dom_classes": [],
            "description": "",
            "_model_name": "HTMLModel",
            "placeholder": "​",
            "_view_module": "@jupyter-widgets/controls",
            "_model_module_version": "1.5.0",
            "value": " 107M/107M [00:01&lt;00:00, 69.6MB/s]",
            "_view_count": null,
            "_view_module_version": "1.5.0",
            "description_tooltip": null,
            "_model_module": "@jupyter-widgets/controls",
            "layout": "IPY_MODEL_90b5885dd92c4e4ba7f19a8e6d1a91f6"
          }
        },
        "f6c2111620954f14b3911532d5455474": {
          "model_module": "@jupyter-widgets/controls",
          "model_name": "ProgressStyleModel",
          "state": {
            "_view_name": "StyleView",
            "_model_name": "ProgressStyleModel",
            "description_width": "initial",
            "_view_module": "@jupyter-widgets/base",
            "_model_module_version": "1.5.0",
            "_view_count": null,
            "_view_module_version": "1.2.0",
            "bar_color": null,
            "_model_module": "@jupyter-widgets/controls"
          }
        },
        "de19505fa6334fabba3bbcb541d0833b": {
          "model_module": "@jupyter-widgets/base",
          "model_name": "LayoutModel",
          "state": {
            "_view_name": "LayoutView",
            "grid_template_rows": null,
            "right": null,
            "justify_content": null,
            "_view_module": "@jupyter-widgets/base",
            "overflow": null,
            "_model_module_version": "1.2.0",
            "_view_count": null,
            "flex_flow": null,
            "width": null,
            "min_width": null,
            "border": null,
            "align_items": null,
            "bottom": null,
            "_model_module": "@jupyter-widgets/base",
            "top": null,
            "grid_column": null,
            "overflow_y": null,
            "overflow_x": null,
            "grid_auto_flow": null,
            "grid_area": null,
            "grid_template_columns": null,
            "flex": null,
            "_model_name": "LayoutModel",
            "justify_items": null,
            "grid_row": null,
            "max_height": null,
            "align_content": null,
            "visibility": null,
            "align_self": null,
            "height": null,
            "min_height": null,
            "padding": null,
            "grid_auto_rows": null,
            "grid_gap": null,
            "max_width": null,
            "order": null,
            "_view_module_version": "1.2.0",
            "grid_template_areas": null,
            "object_position": null,
            "object_fit": null,
            "grid_auto_columns": null,
            "margin": null,
            "display": null,
            "left": null
          }
        },
        "913b474ee37949a68ade35818bbc9be3": {
          "model_module": "@jupyter-widgets/controls",
          "model_name": "DescriptionStyleModel",
          "state": {
            "_view_name": "StyleView",
            "_model_name": "DescriptionStyleModel",
            "description_width": "",
            "_view_module": "@jupyter-widgets/base",
            "_model_module_version": "1.5.0",
            "_view_count": null,
            "_view_module_version": "1.2.0",
            "_model_module": "@jupyter-widgets/controls"
          }
        },
        "90b5885dd92c4e4ba7f19a8e6d1a91f6": {
          "model_module": "@jupyter-widgets/base",
          "model_name": "LayoutModel",
          "state": {
            "_view_name": "LayoutView",
            "grid_template_rows": null,
            "right": null,
            "justify_content": null,
            "_view_module": "@jupyter-widgets/base",
            "overflow": null,
            "_model_module_version": "1.2.0",
            "_view_count": null,
            "flex_flow": null,
            "width": null,
            "min_width": null,
            "border": null,
            "align_items": null,
            "bottom": null,
            "_model_module": "@jupyter-widgets/base",
            "top": null,
            "grid_column": null,
            "overflow_y": null,
            "overflow_x": null,
            "grid_auto_flow": null,
            "grid_area": null,
            "grid_template_columns": null,
            "flex": null,
            "_model_name": "LayoutModel",
            "justify_items": null,
            "grid_row": null,
            "max_height": null,
            "align_content": null,
            "visibility": null,
            "align_self": null,
            "height": null,
            "min_height": null,
            "padding": null,
            "grid_auto_rows": null,
            "grid_gap": null,
            "max_width": null,
            "order": null,
            "_view_module_version": "1.2.0",
            "grid_template_areas": null,
            "object_position": null,
            "object_fit": null,
            "grid_auto_columns": null,
            "margin": null,
            "display": null,
            "left": null
          }
        }
      }
    }
  },
  "cells": [
    {
      "cell_type": "markdown",
      "source": [
        "![TENK Tech - Face ID - Capgemini](utils/materials/header.png \"TENK Tech - Face ID - Capgemini\")\n",
        "# Velkommen til Capgeminis sesjon om maskinlæring og FaceID\n",
        "\n",
        "Vi i Capgemini sin avdeling for innsikt og data jobber hver dag med å hjelpe selskaper og bedrifter med å hente ut mer informasjon og kunnskap fra den dataen de har slik at de kan ta bedre beslutninger, og automatisere, optimalisere og effektivesere prosesser.\n",
        "\n",
        "I dag skal dere få bli litt bedre kjent med hvordan vi jobber med kunstig intelligens og maskinlæring. Vi skal innom temaer som:\n",
        "* Metoder for hvordan man utvikler en maskinlærinsmodell\n",
        "* Klargjøring av data\n",
        "* Trening av modeller\n",
        "* Testing av modeller\n",
        "\n",
        "Vi håper dere finner dette spennende og at dere får lyst til å være med å utvikle morgendagens løsninger ved hjelp av kunstig intelligens og maskinlæring!"
      ],
      "metadata": {
        "id": "c8DLYqvuQBO9"
      }
    },
    {
      "cell_type": "markdown",
      "source": [
        "## Før vi kan sette i gang må vi sette opp kodemiljøet vi skal bruke"
      ],
      "metadata": {
        "id": "ifoYtdmfQBO_"
      }
    },
    {
      "cell_type": "markdown",
      "source": [
        "Følg stegene nedenfor så er vi straks klar til å starte!\n",
        "\n",
        "<ol style=\"font-size:1.2em;\">\n",
        "    <li>Finn Runtime i menylinjen ovenfor</li>\n",
        "    <img src=\"https://github.com/SimeNor/tenk/blob/main/utils/materials/dropdown2.png?raw=1\" alt=\"Finn Runtime i menylinjen\" width=\"400\" />\n",
        "    <li>Trykk på *Change runtime type*</li>\n",
        "    <li>Velg GPU</li>\n",
        "    <img src=\"https://github.com/SimeNor/tenk/blob/main/utils/materials/gpu2.png?raw=1\" alt=\"Velg GPU\" width=\"400\"/>\n",
        "    <li>Kjør koden nedenfor ved å klikke et eller annet sted i boksen og trykke på *Ctrl + Enter*</li>\n",
        "    <ul>\n",
        "        <li> Her vil det muligens dukke opp et <i>Warning</i> vindu som vist nedenfor. Trykk da på <b style=\"color:#4487f4;\">Run anyway</b>.</li>\n",
        "        <img style=\"margin-top:1em;\" src=\"https://github.com/SimeNor/tenk/blob/main/utils/materials/warning.png?raw=1\" alt=\"Warning vindu\" width=\"550\"/>\n",
        "    </ul>\n",
        "</ol>\n"
      ],
      "metadata": {
        "id": "THHuRzIUQBO_"
      }
    },
    {
      "cell_type": "code",
      "execution_count": null,
      "source": [
        "import os\n",
        "os.system(\"git clone https://github.com/SimeNor/tenk.git\") ;\n",
        "from tenk.utils.init_setup import setup\n",
        "setup() ;\n",
        "from utils.moduler import *\n",
        "from trening.trening import *"
      ],
      "outputs": [],
      "metadata": {
        "id": "lphzciSPQBPA"
      }
    },
    {
      "cell_type": "markdown",
      "source": [
        "# La oss komme i gang!"
      ],
      "metadata": {
        "id": "-ta9oSk9QBPB"
      }
    },
    {
      "cell_type": "markdown",
      "source": [
        "---\n",
        "\n",
        "Første steg ved utvikling av enhver maskinlæringsmodell er å.."
      ],
      "metadata": {
        "id": "GlncXTz9QBPB"
      }
    },
    {
      "cell_type": "markdown",
      "source": [
        "# <img src=\"https://github.com/SimeNor/tenk/blob/main/utils/materials/skaff_bilder.png?raw=1\" class=\"center\" alt=\"Hente inn data\" width=\"80\" />1. Hente inn data\n",
        "\n",
        "Det aller viktigste når man arbeider med maskinlæring er dataen. Første steg er derfor å skaffe mye god data vi kan trene modellen vår på.\n",
        "\n",
        "I vårt FaceID eksempel er det et par ting vi må passe spesielt på. Bildene må blant annet være:\n",
        "- Av samme størrelse\n",
        "- Av ansiktene til forskjellig mennesker\n",
        "- Sortert på en måte som gjør at vi vet hvilke bilder som er av forskjellige personer.\n",
        "\n",
        "Å skaffe data er en av de mest tidkrevene delene ved maskinlæring så vi har gjort klar en mappe med bilder for dere.\n",
        "Denne heter *bilder_kjendiser* som ligger under *tenk* mappen.\n",
        "\n",
        "For å få opp filer og mapper. Trykk på knappen i menylinjen på venstre side som vist i bildet nedenfor.\n",
        "\n",
        "<img style=\"margin-top:1em;\" src=\"https://github.com/SimeNor/tenk/blob/main/utils/materials/bar.png?raw=1\" alt=\"Warning vindu\" width=\"50\"/>\n",
        "\n",
        "Finner du mappen?  \n",
        "\n",
        "Tast inn mappenavnet nedenfor sånn at vi kan bruke bildene til å trene en maskinlæringsmodell senere."
      ],
      "metadata": {
        "id": "Ul104q8-QBPB"
      }
    },
    {
      "cell_type": "code",
      "execution_count": null,
      "source": [
        "# Sett inn navnet til mappen med bilder av kjendiser\r\n",
        "lokasjon_bilder = 'bilder_kjendiser'"
      ],
      "outputs": [],
      "metadata": {
        "id": "SaysvPHOQBPC"
      }
    },
    {
      "cell_type": "markdown",
      "source": [
        "# <img src=\"https://github.com/SimeNor/tenk/blob/main/utils/materials/analyser_bilder.png?raw=1\" class=\"center\" alt=\"Analyser dataen\" width=\"80\" />2. Analyser dataen\n",
        "En annen viktig del når man skal utvikle en maskinlæringsmodell er å bli kjent med dataen.  \n",
        "\n",
        "Ta gjerne en titt i mappen og se hva du finner.  \n",
        "Ser du..\n",
        "* Nummererte mapper med bilder av forskjellige kjendiser?\n",
        "* Mange forskjellige bilder for hver kjendis?\n",
        "* Kjenner du igjen noen kjendiser?\n",
        "\n",
        "La oss vise noen bilder nedenfor slik at vi kan se om bildene ser korrekt ut."
      ],
      "metadata": {
        "id": "MDGe7dTYQBPC"
      }
    },
    {
      "cell_type": "code",
      "execution_count": null,
      "source": [
        "# La oss vise noen bilder fra mappen\r\n",
        "vis_bilder(lokasjon_bilder, antall_bilder_totalt=5, antall_bilder_per_kjendis=1)"
      ],
      "outputs": [],
      "metadata": {
        "id": "KiOBd3uyQBPD",
        "outputId": "3ed68148-e063-4d83-e301-f2a5e3df08c8",
        "colab": {
          "base_uri": "https://localhost:8080/",
          "height": 817
        }
      }
    },
    {
      "cell_type": "markdown",
      "source": [
        "## Gjør dataen tilgjengelig for bruk\n",
        "Nedenfor lar vi maskinen laste inn bildene slik at vi kan trene modellen på de.  \n",
        "Legg merke til antall bilder, det burde være mer enn 20 000. Stemmer dette?"
      ],
      "metadata": {
        "id": "BEv8w3-gQBPD"
      }
    },
    {
      "cell_type": "code",
      "execution_count": null,
      "source": [
        "# Klargjør dataen\r\n",
        "datasett = last_inn_bilder(lokasjon_bilder)"
      ],
      "outputs": [],
      "metadata": {
        "id": "CkAWyMlPQBPD",
        "outputId": "6cd2066a-5081-45ef-8228-326170055493",
        "colab": {
          "base_uri": "https://localhost:8080/"
        }
      }
    },
    {
      "cell_type": "markdown",
      "source": [
        "# <img src=\"https://github.com/SimeNor/tenk/blob/main/utils/materials/tren_modell.png?raw=1\" class=\"center\" alt=\"Tren en modell\" width=\"80\" />3. Tren en modell\n",
        "Med dataen klar kan vi nå begynne med treningen av modellen.  \n",
        "\n",
        "Det finnes mange forskjellige modeller, og som alle oss her så er de mer eller mindre forskjellige. Noen er gode til en ting, mens andre er gode til noe helt annet.\n",
        "\n",
        "Nedenfor har vi klargjort en modell som fungerer godt for vår FaceID eksempel. Last ned modellen ved å kjøre koden i boksen nedenfor.  \n",
        "Dukket det opp en modell?"
      ],
      "metadata": {
        "id": "4_lUvidCQBPD"
      }
    },
    {
      "cell_type": "code",
      "execution_count": null,
      "source": [
        "modell = last_ned_modell()"
      ],
      "outputs": [],
      "metadata": {
        "id": "K_eSLcnmQBPE",
        "outputId": "8e41dc66-77b4-4bef-9b34-dbb0684a30bc",
        "colab": {
          "base_uri": "https://localhost:8080/",
          "height": 97,
          "referenced_widgets": [
            "f0f91f3fca264066a6b43768b869c33d",
            "0dbf5c8cb9914421ad486b84b56b6bc6",
            "e1476e3f63ac48929fd2f5f4ba93aecb",
            "30465cdaf7f2484c93a28575bd950173",
            "f6c2111620954f14b3911532d5455474",
            "de19505fa6334fabba3bbcb541d0833b",
            "913b474ee37949a68ade35818bbc9be3",
            "90b5885dd92c4e4ba7f19a8e6d1a91f6"
          ]
        }
      }
    },
    {
      "cell_type": "markdown",
      "source": [
        "Når vi skal trene en modell er det flere ting vi må bestemme. Valgene vi tar vil ofte påvirke hvor god modellen vår blir til å løse oppgaven sin. I vårt tilfelle er dette hvor god den er til å identifisere mennersker fra bilder av ansiktene deres.\n",
        "\n",
        "Noen eksempler på ting som må bestemmes er følgende **parametre**:\n",
        "* Treningsiterasjoner - Hvor mange ganger modellen skal få lov til å trene på dataen.\n",
        "* Størrelse på treningsgrupper - Hvor mange bilder en modell skal få se før den kan lære noe fra observasjonene den gjorde.\n",
        "* Læringsraten - Hvor mye modellen skal lære fra hver treningsgruppe av bilder.\n",
        "\n",
        "I boksen nedenfor har vi satt et eksempel for slike verdier. Du skal senere få teste med dine egne verdier.\n",
        "\n",
        "> **!Tips:**\n",
        "> Sett tallene innenfor følgende områder:\n",
        "> * Læringsraten ->  [0.0000001 , 0.01]\n",
        "> * Treningsiterasjoner  ->  [3 , 12]\n",
        "> * størrelse_treningsgrupper  ->  [8 , 128]\n"
      ],
      "metadata": {
        "id": "kEbvoHx0QBPE"
      }
    },
    {
      "cell_type": "code",
      "execution_count": null,
      "source": [
        "læringsrate = 0.001\r\n",
        "treningsiterasjoner = 1\r\n",
        "størrelse_treningsgrupper = 64"
      ],
      "outputs": [],
      "metadata": {
        "id": "pnQDdPsVQBPF"
      }
    },
    {
      "cell_type": "markdown",
      "source": [
        "## Dele opp dataen i trening- og testsett\n",
        "For at vi skal kunne si om modellen har lært noe må vi dele opp dataen vår i et treningssett og et testsett.  \n",
        "\n",
        "Under trening lærer modellen av eksemplene den ser fra treningsdatasettet. Når den har trent en stund kan vi se hvordan den gjør det på testsettet. Testsettet inneholder bilder som modellen ikke har sett før. På denne måten må modellen lære seg oppgaven den skal løse, og kan ikke bare pugge bildene den ser under trening. Det er litt som på skolen. Pugge fasiten på fjorårets prøve er sjeldent en god måte å øve til årets prøve.\n",
        "\n",
        "Det er viktig å vise modellen så mye data som mulig for trening slik at den får trent godt. Samtidig er det viktig at testsettet ikke har for få bilder. Dersom det er få bilder i testsettet vet vi ikke om modellen har lært noe eller om den bare hadde flaks på de få bildene den ble testet på.\n",
        "\n",
        "Her vil vi bruke 80% av bildene til trening av modellen og 20% til testing."
      ],
      "metadata": {
        "id": "CLyJb-vSQBPF"
      }
    },
    {
      "cell_type": "code",
      "execution_count": null,
      "source": [
        "andel_test = 0.2\r\n",
        "\r\n",
        "trening_data, test_data = del_opp_datasett(datasett, andel_test, størrelse_treningsgrupper)"
      ],
      "outputs": [],
      "metadata": {
        "id": "FKVPDo_cQBPF",
        "outputId": "f4245ca4-6fa4-4ae5-ccee-8ac79aa05c73",
        "colab": {
          "base_uri": "https://localhost:8080/"
        }
      }
    },
    {
      "cell_type": "markdown",
      "source": [
        "## Sette opp treningsalgoritme\n",
        "For å trene en maskinlæringsalgoritme er det tre viktige steg som gjentas i hver iterasjon for at modellen skal kunne gjøre prediksjoner og lære av sine feil.\n",
        "\n",
        "1.   Gjøre *prediksjoner* ut fra et sett med eksempler som blir vist til modellen. Her skal maskinlæringsmodellen gjette på hvilken person den ser.\n",
        "2.   Sammenligne *prediksjoner* med *fasit* og bruke dette til å beregne et *avvik*, som også kan beskrives som hvor riktig eller feil modellen tok.\n",
        "3.   *Oppdatere modellen* basert på hvor stort avviket var mellom prediksjonen som modellen gjorde og fasiten. På denne måten vil den sakte men sikkert bli mer presis og gjøre mindre feil ved neste forsøk.\n",
        "\n",
        "På slutten av hver iterasjon vil vi også gjøre en test av modellen på testsettet for å kunne se hvor mye den har forbedret seg op dataen som den ikke har lov til å lære av.\n",
        "\n",
        "<br/><br/>\n",
        "\n",
        "For å starte treningen av modellen må vi sette opp to funksjoner som vil brukes til å gjennomføre treningen:\n",
        "\n",
        "*   **tren_modell():** Denne funksjonen skal stå for den overordnede treningen av modellen og gjøre testing mellom hver iterasjon\n",
        "*   **kjør_iterasjon():** For hver iterasjon er det flere steg som må gjentas (gjøre prediksjoner, sammenligne med fakta og oppdatere model). Denne funksjonen brukes for hver gang man vil trene eller teste modellen i \"tren_modell()\"-funksjonen\n",
        "\n",
        "Vi har satt opp skallet for koden i de to funksjonene, men det er noen viktige deler som fortsatt skal fylles ut! Disse områdene er markert i koden.\n",
        "\n",
        "\n",
        "Det er også satt opp noen hjelpefunksjoner som det er lurt å bruke for å fullføre koden, se listen under for noen gode tips :)\n",
        "\n",
        "\n",
        "\n",
        "*   **generer_prediksjoner(modell, eksempler)**\n",
        "    * Denne funksjonen bruker modellen og et sett med eksempler til å finne ut hvilken person som er avbildet\n",
        "    * Funksjonen returnerer en prediksjon for hvert eksempel med sannsynlighet på hvilken person det kan være\n",
        "*   **sammenlign_med_fakta(fakta, prediksjoner, avviksfunksjon)**\n",
        "    * Ved å sammenlige med det som er fakta måler funksjonen hvor stor forskjell det er til prediksjonene med en avviksfunksjon\n",
        "    * Funksjonen returnerer hvor feil modellen tok i hvert eksempel\n",
        "*   **oppdater_modell(avvik, optimizer)**\n",
        "    * Den siste funksjonen tar inn avvikene for hvert eksempel og oppdaterer modellen basert på hvor den tok feil\n",
        "    * Funksjonen returnerer ingenting, men modellen blir oppdatert\n",
        "\n",
        "\n",
        "\n"
      ],
      "metadata": {
        "id": "c-Pb07xURA1M"
      }
    },
    {
      "cell_type": "code",
      "execution_count": null,
      "source": [
        "def kjør_iterasjon(data, modell, avviksfunksjon, optimizer, batch_metrics):\r\n",
        "    global device\r\n",
        "    mode = 'Train' if modell.training else 'Test'\r\n",
        "    logger = training.Logger(mode, length=len(data), calculate_mean=True)\r\n",
        "    totalt_avvik = 0\r\n",
        "    metrics = {}\r\n",
        "\r\n",
        "    for i, (eksempler, fakta) in enumerate(data):\r\n",
        "        eksempler, fakta = eksempler.to(device), fakta.to(device)\r\n",
        "\r\n",
        "        #######################################################################################\r\n",
        "        # På radene under er det markert hvor vi må fylle ut med en \"#\"\r\n",
        "        #######################################################################################\r\n",
        "\r\n",
        "        \"\"\"\r\n",
        "        Først må vi bruke modellen til å gjøre prediksjoner med de eksemplene som vises\r\n",
        "        \"\"\"\r\n",
        "        prediksjoner = generer_prediksjoner(modell, eksempler) # Bruk funksjon for å gjøre prediksjoner med dataen\r\n",
        "\r\n",
        "        \"\"\"\r\n",
        "        Prediksjonene sammenlignes med faktaen fra datasettet for å se hvor stort avviket er\r\n",
        "        \"\"\"\r\n",
        "        avvik = sammenlign_med_fakta(fakta, prediksjoner, avviksfunksjon)# Bruk funksjonen for å sammenligne fakta mot prediksjoner og spesifiser hvordan dette skal beregnes\r\n",
        "\r\n",
        "        if modell.training:\r\n",
        "            \"\"\"\r\n",
        "            Når modellen er satt i treningsmodus skal vi oppdatere den basert på avvikene vi finner\r\n",
        "            \r\n",
        "            HINT: Det er en egen funksjon for å oppdatere modellen\r\n",
        "            \"\"\"\r\n",
        "            oppdater_modell(avvik, optimizer)# Bruk avvikene du fant for gruppen og en optimizer til å gjøre oppdateringer\r\n",
        "\r\n",
        "        #######################################################################################\r\n",
        "        # Slutt på oppgaven, resten av koden kan bli stående som det er\r\n",
        "        #######################################################################################\r\n",
        "\r\n",
        "\r\n",
        "        metrics_batch = {}\r\n",
        "        for metric_name, metric_fn in batch_metrics.items():\r\n",
        "            metrics_batch[metric_name] = metric_fn(prediksjoner, fakta).detach().cpu()\r\n",
        "            metrics[metric_name] = metrics.get(metric_name, 0) + metrics_batch[metric_name]\r\n",
        "\r\n",
        "        avvik = avvik.detach().cpu()\r\n",
        "        totalt_avvik += avvik\r\n",
        "\r\n",
        "        logger(totalt_avvik, metrics, i)\r\n",
        "\r\n",
        "    totalt_avvik = totalt_avvik / (i + 1)\r\n",
        "    metrics = {k: v / (i + 1) for k, v in metrics.items()}\r\n",
        "\r\n",
        "    return avvik, metrics"
      ],
      "outputs": [],
      "metadata": {
        "id": "gJsM7Sr4Q59w"
      }
    },
    {
      "cell_type": "code",
      "execution_count": null,
      "source": [
        "def tren_modell(modell, trening_data, læringsrate:float, treningsiterasjoner:int, test_data=None):\r\n",
        "    optimizer = optim.Adam(modell.parameters(), lr=læringsrate)\r\n",
        "    avviksfunksjon, treffsikkerhet_funksjon = loss_metrics()\r\n",
        "\r\n",
        "    for epoch in range(treningsiterasjoner):\r\n",
        "        print('\\nEpoch {}/{}'.format(epoch + 1, treningsiterasjoner))\r\n",
        "        print('-' * 10)\r\n",
        "\r\n",
        "        #######################################################################################\r\n",
        "        # På radene under er det markert hvor vi må fylle ut med en \"#\"\r\n",
        "        #######################################################################################\r\n",
        "\r\n",
        "        \"\"\"\r\n",
        "        Første steg i hver iterasjon er å gjøre treningen av modellen. Modellen settes til treningsmodus\r\n",
        "        Sett inn riktig datasett for å trene opp ML-modellen\r\n",
        "        \"\"\"\r\n",
        "        modell.train()\r\n",
        "        avvik, metrics = kjør_iterasjon(trening_data # Sett inn riktig datasett her!\r\n",
        "                                       , modell, avviksfunksjon, optimizer, treffsikkerhet_funksjon)\r\n",
        "\r\n",
        "        \"\"\"\r\n",
        "        Deretter skal vi teste modellen på data den ikke har fått lære av. Modellen settes til evalueringsmodus\r\n",
        "        \r\n",
        "        Sett inn riktig datasett for å teste ML-modellen\r\n",
        "        \"\"\"\r\n",
        "        if test_data is not None:\r\n",
        "            modell.eval()\r\n",
        "            avvik, metrics = kjør_iterasjon(test_data# Sett inn riktig datasett her!\r\n",
        "                                            , modell, avviksfunksjon, optimizer, treffsikkerhet_funksjon)\r\n",
        "\r\n",
        "        #######################################################################################\r\n",
        "        # Slutt på oppgaven, resten kan bli stående som det er\r\n",
        "        #######################################################################################\r\n",
        "\r\n",
        "    return modell"
      ],
      "outputs": [],
      "metadata": {
        "id": "AO9U-FgQQ52Y"
      }
    },
    {
      "cell_type": "markdown",
      "source": [
        "Vi setter også opp en funksjon for å bare teste modellen \n",
        "\n",
        "Her trenger vi ikke å endre på noe, men kjør cellen ved å trykke *Ctrl + Enter*"
      ],
      "metadata": {
        "id": "hpbTBx64W-ln"
      }
    },
    {
      "cell_type": "code",
      "execution_count": null,
      "source": [
        "def test_modell(modell, data):\r\n",
        "    torch.manual_seed(42)\r\n",
        "    avvik_funksjon, treffsikkerhet_funksjon = loss_metrics()\r\n",
        "\r\n",
        "    modell.eval()\r\n",
        "    avvik, metrics = kjør_iterasjon(data, modell, avvik_funksjon, optimizer=None, batch_metrics=treffsikkerhet_funksjon)"
      ],
      "outputs": [],
      "metadata": {
        "id": "mYCgtKbkW1Yl"
      }
    },
    {
      "cell_type": "markdown",
      "source": [
        "## Tren modellen\n",
        "Når vi nå har delt opp dataen og gjort klar koden kan vi trene vår første modell.\n",
        "La oss trene modellen på treningssettet 1 gang og se hvordan den gjør det.\n",
        "\n",
        "Ser du hvordan *treffsikkerheten* utvikler seg? Dette er hvor godt modellen gjør det på treningssettet."
      ],
      "metadata": {
        "id": "_Kq6yW6JQBPF"
      }
    },
    {
      "cell_type": "code",
      "execution_count": null,
      "source": [
        "modell = tren_modell(\r\n",
        "    modell=modell,\r\n",
        "    trening_data=trening_data,\r\n",
        "    læringsrate=læringsrate,\r\n",
        "    treningsiterasjoner=treningsiterasjoner\r\n",
        "    )"
      ],
      "outputs": [],
      "metadata": {
        "id": "A0DLjenqQBPF",
        "outputId": "3993019d-9504-49f5-c07f-500f4678789d",
        "colab": {
          "base_uri": "https://localhost:8080/"
        }
      }
    },
    {
      "cell_type": "markdown",
      "source": [
        "# <img src=\"https://github.com/SimeNor/tenk/blob/main/utils/materials/test_modell.png?raw=1\" class=\"center\" alt=\"Tren en modell\" width=\"80\" />4. Test modellen\n",
        "Nå har vi trent en modellen på treningssettet 1 gang. La oss se hvordan den gjør det på testsettet.  \n",
        "Ser det lovende ut?"
      ],
      "metadata": {
        "id": "43uOQCaQQBPF"
      }
    },
    {
      "cell_type": "code",
      "execution_count": null,
      "source": [
        "test_modell(modell, data=test_data)\r\n",
        "\r\n",
        "del modell, datasett, trening_data, test_data, læringsrate, treningsiterasjoner, størrelse_treningsgrupper"
      ],
      "outputs": [],
      "metadata": {
        "id": "rB0T4lu8QBPG",
        "outputId": "0b84f356-482b-4416-a77e-3024569f32d5",
        "colab": {
          "base_uri": "https://localhost:8080/"
        }
      }
    },
    {
      "cell_type": "markdown",
      "source": [
        "# <img src=\"https://github.com/SimeNor/tenk/blob/main/utils/materials/videreutvikle.png?raw=1\" class=\"center\" alt=\"Videreutvikling\" width=\"80\" />5. Videreutvikling - Konurranse \n",
        "Da har vi kommet til dagens utfordring!\n",
        "\n",
        "Her skal vi se hva dere har lært, og se hvem som klarer å designe den beste modellen.\n",
        "\n",
        "Oppgaven består av to steg:\n",
        "<ol>\n",
        "   <li>Sett opp alle stegene for å trene en modell i rett rekkefølge.</li>\n",
        "   <ol>\n",
        "      <li>Flytt boksene nedenfor i korrekt rekkefølge ved bruk av pilene funnet på øvre høyre hjørnet av boksen som vist i bildet under.</li>\n",
        "      <img style=\"margin-top:1em;\" src=\"https://github.com/SimeNor/tenk/blob/main/utils/materials/arrows.png?raw=1\" alt=\"Warning vindu\" width=\"300\"/>\n",
        "      <li> Kjør så boksene i kronologisk rekkefølge.</li>\n",
        "   </ol>\n",
        "   <li> Juster <u>parametrene</u> slik at du får best mulig <i>treffsikkerhet</i>.</li>\n",
        "   <ul>\n",
        "      <li><i>Treffsikkerhet går fra 0 til 1. 0 = 0% korrekt, 1 = 100% korrekt.</i></li>\n",
        "      <li><b>Den med høyest treffsikkerhet vinner!</b></li>\n",
        "   </ul>\n",
        "</ol>\n",
        "\n",
        "**Obs!** *Vi har lagt inn testing for hver treningsiterasjon sånn at dere kan se hvordan modellen gjør det underveis. Testresultatene kan leses under *Valid**\n",
        "\n",
        "**Vinneren blir kåret på slutten av sesjonen!**"
      ],
      "metadata": {
        "id": "DlHIswQSQBPG"
      }
    },
    {
      "cell_type": "code",
      "execution_count": null,
      "source": [
        "# Sett parametrene\r\n",
        "læringsrate = 0.001#Sett inn tall\r\n",
        "treningsiterasjoner = 1#Sett inn tall\r\n",
        "størrelse_treningsgrupper = 128 #Sett inn tall"
      ],
      "outputs": [],
      "metadata": {
        "id": "uOnD6isLQBPI"
      }
    },
    {
      "cell_type": "code",
      "execution_count": null,
      "source": [
        "# Last inn bilder\r\n",
        "datasett = last_inn_bilder(lokasjon_bilder)"
      ],
      "outputs": [],
      "metadata": {
        "id": "G4NyhSRXQBPH",
        "outputId": "3a032150-3000-4b40-ac01-41be0d204adc",
        "colab": {
          "base_uri": "https://localhost:8080/"
        }
      }
    },
    {
      "cell_type": "code",
      "execution_count": null,
      "source": [
        "# Del opp dataen i trening- og testsett\r\n",
        "trening_data, test_data = del_opp_datasett(datasett, andel_test, størrelse_treningsgrupper)"
      ],
      "outputs": [],
      "metadata": {
        "id": "cIFi5w9JQBPH",
        "outputId": "f12dcc79-5e46-4424-fed8-d3bf5cc71545",
        "colab": {
          "base_uri": "https://localhost:8080/"
        }
      }
    },
    {
      "cell_type": "code",
      "execution_count": null,
      "source": [
        "# Klargjør modell\r\n",
        "modell = last_ned_modell()"
      ],
      "outputs": [],
      "metadata": {
        "id": "vykJstO-QBPH",
        "outputId": "6c7b1617-c2a9-4533-c300-248f4b9f7457",
        "colab": {
          "base_uri": "https://localhost:8080/"
        }
      }
    },
    {
      "cell_type": "code",
      "execution_count": null,
      "source": [
        "# Tren modellen\r\n",
        "modell = tren_modell(\r\n",
        "    modell=modell,\r\n",
        "    trening_data=trening_data,\r\n",
        "    læringsrate=læringsrate,\r\n",
        "    treningsiterasjoner=treningsiterasjoner,\r\n",
        "    test_data=test_data\r\n",
        "    )"
      ],
      "outputs": [],
      "metadata": {
        "id": "aYfg97BNQBPG",
        "outputId": "3e388e53-f59c-49a4-ad9d-11b380c5f227",
        "colab": {
          "base_uri": "https://localhost:8080/"
        }
      }
    },
    {
      "cell_type": "code",
      "execution_count": null,
      "source": [
        "# Test modellen\r\n",
        "test_modell(modell, data=test_data)"
      ],
      "outputs": [],
      "metadata": {
        "id": "YVyEl8RWQBPH",
        "outputId": "bcc4b507-e346-4d54-8b5c-faadf8aaa947",
        "colab": {
          "base_uri": "https://localhost:8080/"
        }
      }
    },
    {
      "cell_type": "markdown",
      "source": [
        "# <img src=\"https://github.com/SimeNor/tenk/blob/main/utils/materials/celeb.png?raw=1\" class=\"center\" alt=\"Kjendis\" width=\"80\" />5. Bonus - Finn din kjendis!\n",
        "Modellen identifiserer mennesker ved å sammenligne bilder av ansikter og si hvor sansynlig det er at disse bildene er av samme person.\n",
        "\n",
        "La oss se om dette kan brukes til å finne den kjendisen som ligner mest på deg!"
      ],
      "metadata": {
        "id": "2iSgbIN3QBPI"
      }
    },
    {
      "cell_type": "markdown",
      "source": [
        "## Last opp bilde(r)\n",
        "For at vi skal kunne finne den kjendisen som modellen mener ligner mest på deg må vi gi den et bilde av deg som vi kan bruke for sammenligning.  \n",
        "Dersom du ønsker kan du laste opp et eller flere bilder i mappen *dine_opplastninger*. Disse vil bli gitt til modellen for sammenligning med alle bildene som ligger i mappen *bilder_kjendiser*.  \n",
        "\n",
        "**Dette er selvsagt helt frivillig! Vi vil ikke lagre disse bildene noe sted i etterkant.**\n",
        "\n",
        "Dersom du har lastet opp et eller flere bilder i mappen kan du kjøre koden i boksen under for å gjøre klar bildene for modellen. Som du kanskje husker fra tidligere så er det viktig at bildene er av samme størrelse og kun av ansiktet ditt. Første steget er defor å bruke en maskinlæringsmodell til å finne ansiktet ditt i bildet og klippe det ut til riktig størrelse.  \n",
        "\n",
        "La oss hvordan de ble seende ut!"
      ],
      "metadata": {
        "id": "jSB8SEmIQBPI"
      }
    },
    {
      "cell_type": "code",
      "execution_count": null,
      "source": [
        "lokasjon_ansikter = finn_ansikter(lokasjon_bilder=\"dine_opplastninger\")\n",
        "vis_bilder(lokasjon_ansikter)"
      ],
      "outputs": [],
      "metadata": {
        "id": "MymIGTv4QBPJ"
      }
    },
    {
      "cell_type": "markdown",
      "source": [
        "Nå som bildene er på rett format kan vi gjøre de tilgjengelige for modellen til å analysere. Kjør koden i boksen under for å laste inn bildene."
      ],
      "metadata": {
        "id": "SivudYNrQBPJ"
      }
    },
    {
      "cell_type": "code",
      "execution_count": null,
      "source": [
        "dine_bilder = last_inn_bilder(lokasjon_ansikter)"
      ],
      "outputs": [],
      "metadata": {
        "id": "mA_cgi6BQBPJ"
      }
    },
    {
      "cell_type": "markdown",
      "source": [
        "## Beregn likhet\n",
        "Nå som dataen er klar kan vi beregne likheten mellom ditt/dine bilder og bildene vi har av kjendisene.  \n",
        "Er du spent?\n",
        "\n",
        "**Obs!** Dette kan ta noen minutter."
      ],
      "metadata": {
        "id": "wJKutvwUQBPJ"
      }
    },
    {
      "cell_type": "code",
      "execution_count": null,
      "source": [
        "likhet = beregn_likhet(kjendis_datasett=datasett, dine_bilder=dine_bilder)"
      ],
      "outputs": [],
      "metadata": {
        "id": "mn0E0hcwQBPK"
      }
    },
    {
      "cell_type": "markdown",
      "source": [
        "## Vis resultatet\n",
        "Vi har nå funnet den kjendisen som modellen mener ligner mest på deg.  \n",
        "La oss se hvem den fant!"
      ],
      "metadata": {
        "id": "EOkqNoiNQBPK"
      }
    },
    {
      "cell_type": "code",
      "execution_count": null,
      "source": [
        "vis_resultater(likhet)"
      ],
      "outputs": [],
      "metadata": {
        "id": "pW7BcyiSQBPK"
      }
    },
    {
      "cell_type": "markdown",
      "source": [
        "## Dine vurderinger\n",
        "Hvordan ble resultatet?  \n",
        "Synes du dere ligner?  \n",
        "Hva tenker du kan være utfordringen for slike systemer?  \n",
        "\n",
        "Vi skal diskutere dette litt etterpå så gjør deg gjerne opp noen tanker!"
      ],
      "metadata": {
        "id": "nOO9WlhrQBPK"
      }
    }
  ]
}