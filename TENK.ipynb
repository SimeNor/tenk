{
 "cells": [
  {
   "cell_type": "markdown",
   "metadata": {},
   "source": [
    "Kjøre celle for å sette opp systemet:"
   ]
  },
  {
   "cell_type": "code",
   "execution_count": 7,
   "metadata": {},
   "outputs": [
    {
     "name": "stdout",
     "output_type": "stream",
     "text": [
      "Requirement already satisfied: mtcnn in c:\\users\\slarsen\\documents\\git\\tenk\\tenk_env\\lib\\site-packages (0.1.0)\n",
      "Requirement already satisfied: keras>=2.0.0 in c:\\users\\slarsen\\documents\\git\\tenk\\tenk_env\\lib\\site-packages (from mtcnn) (2.4.3)\n",
      "Requirement already satisfied: opencv-python>=4.1.0 in c:\\users\\slarsen\\documents\\git\\tenk\\tenk_env\\lib\\site-packages (from mtcnn) (4.5.2.54)\n",
      "Requirement already satisfied: numpy>=1.9.1 in c:\\users\\slarsen\\documents\\git\\tenk\\tenk_env\\lib\\site-packages (from keras>=2.0.0->mtcnn) (1.19.5)\n",
      "Requirement already satisfied: h5py in c:\\users\\slarsen\\documents\\git\\tenk\\tenk_env\\lib\\site-packages (from keras>=2.0.0->mtcnn) (3.1.0)\n",
      "Requirement already satisfied: scipy>=0.14 in c:\\users\\slarsen\\documents\\git\\tenk\\tenk_env\\lib\\site-packages (from keras>=2.0.0->mtcnn) (1.5.4)\n",
      "Requirement already satisfied: pyyaml in c:\\users\\slarsen\\documents\\git\\tenk\\tenk_env\\lib\\site-packages (from keras>=2.0.0->mtcnn) (5.4.1)\n",
      "Requirement already satisfied: cached-property; python_version < \"3.8\" in c:\\users\\slarsen\\documents\\git\\tenk\\tenk_env\\lib\\site-packages (from h5py->keras>=2.0.0->mtcnn) (1.5.2)\n"
     ]
    },
    {
     "name": "stderr",
     "output_type": "stream",
     "text": [
      "You are using pip version 18.1, however version 21.1.2 is available.\n",
      "You should consider upgrading via the 'python -m pip install --upgrade pip' command.\n"
     ]
    },
    {
     "name": "stdout",
     "output_type": "stream",
     "text": [
      "Requirement already satisfied: pillow in c:\\users\\slarsen\\documents\\git\\tenk\\tenk_env\\lib\\site-packages (8.2.0)\n"
     ]
    },
    {
     "name": "stderr",
     "output_type": "stream",
     "text": [
      "You are using pip version 18.1, however version 21.1.2 is available.\n",
      "You should consider upgrading via the 'python -m pip install --upgrade pip' command.\n"
     ]
    }
   ],
   "source": [
    "!git clone https://github.com/SimeNor/tenk.git\r\n",
    "\r\n",
    "import os\r\n",
    "os.chdir(\"tenk\")\r\n",
    "\r\n",
    "!pip install -r requirements.txt"
   ]
  },
  {
   "cell_type": "code",
   "execution_count": 1,
   "metadata": {},
   "outputs": [
    {
     "ename": "SyntaxError",
     "evalue": "invalid syntax (__init__.py, line 1)",
     "output_type": "error",
     "traceback": [
      "Traceback \u001b[1;36m(most recent call last)\u001b[0m:\n",
      "  File \u001b[0;32m\"c:\\Users\\slarsen\\Documents\\Git\\tenk\\tenk_env\\lib\\site-packages\\IPython\\core\\interactiveshell.py\"\u001b[0m, line \u001b[0;32m3343\u001b[0m, in \u001b[0;35mrun_code\u001b[0m\n    exec(code_obj, self.user_global_ns, self.user_ns)\n",
      "\u001b[1;36m  File \u001b[1;32m\"<ipython-input-1-8bf5e69ffeac>\"\u001b[1;36m, line \u001b[1;32m1\u001b[1;36m, in \u001b[1;35m<module>\u001b[1;36m\u001b[0m\n\u001b[1;33m    from utils import *\u001b[0m\n",
      "\u001b[1;36m  File \u001b[1;32m\"c:\\Users\\slarsen\\Documents\\Git\\tenk\\utils\\__init__.py\"\u001b[1;36m, line \u001b[1;32m1\u001b[0m\n\u001b[1;33m    from ../util import *\u001b[0m\n\u001b[1;37m           ^\u001b[0m\n\u001b[1;31mSyntaxError\u001b[0m\u001b[1;31m:\u001b[0m invalid syntax\n"
     ]
    }
   ],
   "source": [
    "from utils import *\r\n",
    "\r\n",
    "path_images = \"test_images\"\r\n",
    "cropped_images = \"cropped_images\"\r\n",
    "extract_faces(path_images, cropped_images)"
   ]
  }
 ],
 "metadata": {
  "interpreter": {
   "hash": "57429d3b74827d702e8e2e5791ec7a19d83902ac9a4758c7d15f370d77f1cb81"
  },
  "kernelspec": {
   "display_name": "Python 3.6.8  ('tenk_env': venv)",
   "name": "python3"
  },
  "language_info": {
   "codemirror_mode": {
    "name": "ipython",
    "version": 3
   },
   "file_extension": ".py",
   "mimetype": "text/x-python",
   "name": "python",
   "nbconvert_exporter": "python",
   "pygments_lexer": "ipython3",
   "version": "3.6.8"
  },
  "orig_nbformat": 4
 },
 "nbformat": 4,
 "nbformat_minor": 2
}