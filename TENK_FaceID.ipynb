{
 "cells": [
  {
   "cell_type": "markdown",
   "source": [
    "![TENK Tech - Face ID - Capgemini](utils/materials/header.jpg \"TENK Tech - Face ID - Capgemini\")\r\n",
    "# Velkommen til Capgeminis sesjon om maskinlæring og FaceID\r\n",
    "\r\n",
    "Vi i Capgemini sin avdeling for innsikt og data jobber hver dag med å hjelpe selskaper og bedrifter med å hente ut mer informasjon og kunnskap fra den dataen de har slik at de kan ta bedre beslutninger, og automatisere, optimalisere og effektivesere prosesser.\r\n",
    "\r\n",
    "I dag skal dere få bli litt bedre kjent med hvordan vi jobber med kunstig intelligens og maskinlæring. Vi skal innom temaer som:\r\n",
    "* Metoder for hvordan man utvikler en maskinlærinsmodell\r\n",
    "* Klargjøring av data\r\n",
    "* Trening av modeller\r\n",
    "* Testing av modeller\r\n",
    "\r\n",
    "Vi håper dere finner dette spennende og at dere får lyst til å være med å utvikle morgendagens løsninger ved hjelp av kunstig intelligens og maskinlæring!"
   ],
   "metadata": {}
  },
  {
   "cell_type": "markdown",
   "source": [
    "## Før vi kan sette i gang må vi sette opp kodemiljøet vi skal bruke"
   ],
   "metadata": {}
  },
  {
   "cell_type": "markdown",
   "source": [
    "Følg stegene nedenfor så er vi straks klar til å starte!\r\n",
    "\r\n",
    "<ol style=\"font-size:1.2em;\">\r\n",
    "    <li>Finn Runtime i menylinjen ovenfor</li>\r\n",
    "    <img src=\"utils/materials/dropdown2.png\" alt=\"Finn Runtime i menylinjen\" width=\"400\" />\r\n",
    "    <li>Trykk på *Change runtime type*</li>\r\n",
    "    <li>Velg GPU</li>\r\n",
    "    <img src=\"utils/materials/gpu2.png\" alt=\"Velg GPU\" width=\"400\"/>\r\n",
    "    <li>Kjør koden nedenfor ved å klikke et eller annet sted i boksen og trykke på *Ctrl + Enter*</li>\r\n",
    "    <ul>\r\n",
    "        <li> Her vil det muligens dukke opp et <i>Warning</i> vindu som vist nedenfor. Trykk da på <b style=\"color:#4487f4;\">Run anyway</b>.</li>\r\n",
    "        <img style=\"margin-top:1em;\" src=\"utils/materials/warning.png\" alt=\"Warning vindu\" width=\"550\"/>\r\n",
    "    </ul>\r\n",
    "</ol>\r\n"
   ],
   "metadata": {}
  },
  {
   "cell_type": "code",
   "execution_count": 1,
   "source": [
    "# import os\r\n",
    "# os.system(\"git clone https://github.com/SimeNor/tenk.git\") ;\r\n",
    "# from tenk.utils.init_setup import setup\r\n",
    "# setup() ;\r\n",
    "from utils.moduler import *"
   ],
   "outputs": [],
   "metadata": {}
  },
  {
   "cell_type": "markdown",
   "source": [
    "# La oss komme i gang!"
   ],
   "metadata": {}
  },
  {
   "cell_type": "markdown",
   "source": [
    "---\r\n",
    "\r\n",
    "Første steg ved utvikling av enhver maskinlæringsmodell er å.."
   ],
   "metadata": {}
  },
  {
   "cell_type": "markdown",
   "source": [
    "# <img src=\"utils/materials/skaff_bilder.png\" class=\"center\" alt=\"Hente inn data\" width=\"80\" />1. Hente inn data\r\n",
    "\r\n",
    "Det aller viktigste når man arbeider med maskinlæring er dataen. Første steg er derfor å skaffe mye god data vi kan trene modellen vår på.\r\n",
    "\r\n",
    "I vårt FaceID eksempel er det et par ting vi må passe spesielt på. Bildene må blant annet være:\r\n",
    "- Av samme størrelse\r\n",
    "- Av ansiktene til forskjellig mennesker\r\n",
    "- Sortert på en måte som gjør at vi vet hvilke bilder som er av forskjellige personer.\r\n",
    "\r\n",
    "Å skaffe data er en av de mest tidkrevene delene ved maskinlæring så vi har gjort klar en mappe med bilder for dere.\r\n",
    "Denne heter *bilder_kjendiser* som ligger under *tenk* mappen.\r\n",
    "\r\n",
    "For å få opp filer og mapper. Trykk på knappen i menylinjen på venstre side som vist i bildet nedenfor.\r\n",
    "\r\n",
    "<img style=\"margin-top:1em;\" src=\"utils/materials/bar.png\" alt=\"Warning vindu\" width=\"50\"/>\r\n",
    "\r\n",
    "Finner du mappen?  \r\n",
    "\r\n",
    "Tast inn mappenavnet nedenfor sånn at vi kan bruke bildene til å trene en maskinlæringsmodell senere."
   ],
   "metadata": {}
  },
  {
   "cell_type": "code",
   "execution_count": null,
   "source": [
    "# Sett inn navnet til mappen med bilder av kjendiser\r\n",
    "lokasjon_bilder = ''"
   ],
   "outputs": [],
   "metadata": {}
  },
  {
   "cell_type": "markdown",
   "source": [
    "# <img src=\"utils/materials/analyser_bilder.png\" class=\"center\" alt=\"Analyser dataen\" width=\"80\" />2. Analyser dataen\r\n",
    "En annen viktig del når man skal utvikle en maskinlæringsmodell er å bli kjent med dataen.  \r\n",
    "\r\n",
    "Ta gjerne en titt i mappen og se hva du finner.  \r\n",
    "Ser du..\r\n",
    "* Nummererte mapper med bilder av forskjellige kjendiser?\r\n",
    "* Mange forskjellige bilder for hver kjendis?\r\n",
    "* Kjenner du igjen noen kjendiser?\r\n",
    "\r\n",
    "La oss vise noen bilder nedenfor slik at vi kan se om bildene ser korrekt ut."
   ],
   "metadata": {}
  },
  {
   "cell_type": "code",
   "execution_count": null,
   "source": [
    "# La oss vise noen bilder fra mappen\r\n",
    "vis_bilder(lokasjon_bilder, antall_bilder_totalt=5, antall_bilder_per_kjendis=1)"
   ],
   "outputs": [],
   "metadata": {}
  },
  {
   "cell_type": "markdown",
   "source": [
    "## Gjør dataen tilgjengelig for bruk\r\n",
    "Nedenfor lar vi maskinen laste inn bildene slik at vi kan trene modellen på de.  \r\n",
    "Legg merke til antall bilder, det burde være mer enn 20 000. Stemmer dette?"
   ],
   "metadata": {}
  },
  {
   "cell_type": "code",
   "execution_count": null,
   "source": [
    "# Klargjør dataen\r\n",
    "datasett = last_inn_bilder(lokasjon_bilder)"
   ],
   "outputs": [],
   "metadata": {}
  },
  {
   "cell_type": "markdown",
   "source": [
    "# <img src=\"utils/materials/tren_modell.png\" class=\"center\" alt=\"Tren en modell\" width=\"80\" />3. Tren en modell\r\n",
    "Med dataen klar kan vi nå begynne med treningen av modellen.  \r\n",
    "\r\n",
    "Det finnes mange forskjellige modeller, og som alle oss her så er de mer eller mindre forskjellige. Noen er gode til en ting, mens andre er gode til noe helt annet.\r\n",
    "\r\n",
    "Nedenfor har vi klargjort en modell som fungerer godt for vår FaceID eksempel. Last ned modellen ved å kjøre koden i boksen nedenfor.  \r\n",
    "Dukket det opp en modell?"
   ],
   "metadata": {}
  },
  {
   "cell_type": "code",
   "execution_count": null,
   "source": [
    "modell = last_ned_modell()"
   ],
   "outputs": [],
   "metadata": {}
  },
  {
   "cell_type": "markdown",
   "source": [
    "Når vi skal trene en modell er det flere ting vi må bestemme. Valgene vi tar vil ofte påvirke hvor god modellen vår blir til å løse oppgaven sin. I vårt tilfelle er dette hvor god den er til å identifisere mennersker fra bilder av ansiktene deres.\r\n",
    "\r\n",
    "Noen eksempler på ting som må bestemmes er følgende **parametre**:\r\n",
    "* Treningsiterasjoner - Hvor mange ganger modellen skal få lov til å trene på dataen.\r\n",
    "* Størrelse på treningsgrupper - Hvor mange bilder en modell skal få se før den kan lære noe fra observasjonene den gjorde.\r\n",
    "* Læringsraten - Hvor mye modellen skal lære fra hver treningsgruppe av bilder.\r\n",
    "\r\n",
    "I boksen nedenfor har vi satt et eksempel for slike verdier. Du skal senere få teste med dine egne verdier.\r\n",
    "\r\n",
    "> **!Tips:**\r\n",
    "> Sett tallene innenfor følgende områder:\r\n",
    "> * Læringsraten ->  [0.0000001 , 0.01]\r\n",
    "> * Treningsiterasjoner  ->  [3 , 12]\r\n",
    "> * størrelse_treningsgrupper  ->  [8 , 128]\r\n"
   ],
   "metadata": {}
  },
  {
   "cell_type": "code",
   "execution_count": null,
   "source": [
    "læringsrate = 0.001\r\n",
    "treningsiterasjoner = 1\r\n",
    "størrelse_treningsgrupper = 64"
   ],
   "outputs": [],
   "metadata": {}
  },
  {
   "cell_type": "markdown",
   "source": [
    "## Dele opp dataen i trening- og testsett\r\n",
    "For at vi skal kunne si om modellen har lært noe må vi dele opp dataen vår i et treningssett og et testsett.  \r\n",
    "\r\n",
    "Under trening lærer modellen av eksemplene den ser fra treningsdatasettet. Når den har trent en stund kan vi se hvordan den gjør det på testsettet. Testsettet inneholder bilder som modellen ikke har sett før. På denne måten må modellen lære seg oppgaven den skal løse, og kan ikke bare pugge bildene den ser under trening. Det er litt som på skolen. Pugge fasiten på fjorårets prøve er sjeldent en god måte å øve til årets prøve.\r\n",
    "\r\n",
    "Det er viktig å vise modellen så mye data som mulig for trening slik at den får trent godt. Samtidig er det viktig at testsettet ikke har for få bilder. Dersom det er få bilder i testsettet vet vi ikke om modellen har lært noe eller om den bare hadde flaks på de få bildene den ble testet på.\r\n",
    "\r\n",
    "Her vil vi bruke 80% av bildene til trening av modellen og 20% til testing."
   ],
   "metadata": {}
  },
  {
   "cell_type": "code",
   "execution_count": null,
   "source": [
    "andel_test = 0.2\r\n",
    "\r\n",
    "trenings_data, test_data = del_opp_datasett(datasett, andel_test, størrelse_treningsgrupper)"
   ],
   "outputs": [],
   "metadata": {}
  },
  {
   "cell_type": "markdown",
   "source": [
    "## Tren modellen\r\n",
    "Når vi nå har delt opp dataen kan vi trene vår første modell.\r\n",
    "La oss trene modellen på treningssettet 1 gang og se hvordan den gjør det.\r\n",
    "\r\n",
    "Ser du hvordan *treffsikkerheten* utvikler seg? Dette er hvor godt modellen gjør det på treningssettet."
   ],
   "metadata": {}
  },
  {
   "cell_type": "code",
   "execution_count": null,
   "source": [
    "modell = tren_modell(\r\n",
    "    modell=modell,\r\n",
    "    data=trenings_data,\r\n",
    "    læringsrate=læringsrate,\r\n",
    "    treningsiterasjoner=treningsiterasjoner\r\n",
    "    )"
   ],
   "outputs": [],
   "metadata": {}
  },
  {
   "cell_type": "markdown",
   "source": [
    "# <img src=\"utils/materials/test_modell.png\" class=\"center\" alt=\"Tren en modell\" width=\"80\" />4. Test modellen\r\n",
    "Nå har vi trent en modellen på treningssettet 1 gang. La oss se hvordan den gjør det på testsettet.  \r\n",
    "Ser det lovende ut?"
   ],
   "metadata": {}
  },
  {
   "cell_type": "code",
   "execution_count": null,
   "source": [
    "test_modell(modell, data=test_data)\r\n",
    "\r\n",
    "del modell, datasett, trenings_data, test_data, læringsrate, treningsiterasjoner, størrelse_treningsgrupper"
   ],
   "outputs": [],
   "metadata": {}
  },
  {
   "cell_type": "markdown",
   "source": [
    "# <img src=\"utils/materials/videreutvikle.png\" class=\"center\" alt=\"Videreutvikling\" width=\"80\" />5. Videreutvikling - Konurranse \r\n",
    "Da har vi kommet til dagens utfordring!\r\n",
    "\r\n",
    "Her skal vi se hva dere har lært, og se hvem som klarer å bestemme den beste modellen.\r\n",
    "\r\n",
    "Oppgaven består av to steg:\r\n",
    "<ol>\r\n",
    "   <li>Sett opp alle stegene for å trene en modell i rett rekkefølge.</li>\r\n",
    "   <ol>\r\n",
    "      <li>Flytt boksene nedenfor i korrekt rekkefølge ved bruk av pilene funnet på øvre høyre hjørnet av boksen som vist i bildet under.</li>\r\n",
    "      <img style=\"margin-top:1em;\" src=\"utils/materials/arrows.png\" alt=\"Warning vindu\" width=\"300\"/>\r\n",
    "      <li> Kjør så boksene i kronologisk rekkefølge.</li>\r\n",
    "   </ol>\r\n",
    "   <li> Juster <u>parametrene</u> slik at du får best mulig <i>treffsikkerhet</i>.</li>\r\n",
    "   <ul>\r\n",
    "      <li><i>Treffsikkerhet går fra 0 til 1. 0 = 0% korrekt, 1 = 100% korrekt.</i></li>\r\n",
    "      <li><b>Den med høyest treffsikkerhet vinner!</b></li>\r\n",
    "   </ul>\r\n",
    "</ol>\r\n",
    "\r\n",
    "**Obs!** *Vi har lagt inn testing for hver treningsiterasjon sånn at dere kan se hvordan modellen gjør det underveis. Testresultatene kan leses under *Valid**\r\n",
    "\r\n",
    "**Vinneren blir kåret på slutten av sesjonen!**"
   ],
   "metadata": {}
  },
  {
   "cell_type": "code",
   "execution_count": null,
   "source": [
    "# Tren modellen\r\n",
    "modell = tren_modell(\r\n",
    "    modell=modell,\r\n",
    "    data=trenings_data,\r\n",
    "    læringsrate=læringsrate,\r\n",
    "    treningsiterasjoner=treningsiterasjoner,\r\n",
    "    test_data=test_data\r\n",
    "    )"
   ],
   "outputs": [],
   "metadata": {}
  },
  {
   "cell_type": "code",
   "execution_count": null,
   "source": [
    "# Test modellen\r\n",
    "test_modell(modell, data=test_data)"
   ],
   "outputs": [],
   "metadata": {}
  },
  {
   "cell_type": "code",
   "execution_count": null,
   "source": [
    "# Del opp dataen i trening- og testsett\r\n",
    "trenings_data, test_data = del_opp_datasett(datasett, andel_test, størrelse_treningsgrupper)"
   ],
   "outputs": [],
   "metadata": {}
  },
  {
   "cell_type": "code",
   "execution_count": null,
   "source": [
    "# Last inn bilder\r\n",
    "datasett = last_inn_bilder(lokasjon_bilder)"
   ],
   "outputs": [],
   "metadata": {}
  },
  {
   "cell_type": "code",
   "execution_count": null,
   "source": [
    "# Klargjør modell\r\n",
    "modell = last_ned_modell()"
   ],
   "outputs": [],
   "metadata": {}
  },
  {
   "cell_type": "code",
   "execution_count": null,
   "source": [
    "# Sett parametrene\r\n",
    "læringsrate = #Sett inn tall\r\n",
    "treningsiterasjoner = #Sett inn tall\r\n",
    "størrelse_treningsgrupper =  #Sett inn tall"
   ],
   "outputs": [],
   "metadata": {}
  },
  {
   "cell_type": "markdown",
   "source": [
    "# <img src=\"utils/materials/celeb.png\" class=\"center\" alt=\"Kjendis\" width=\"80\" />5. Bonus - Finn din kjendis!\r\n",
    "Modellen identifiserer mennesker ved å sammenligne bilder av ansikter og si hvor sansynlig det er at disse bildene er av samme person.\r\n",
    "\r\n",
    "La oss se om dette kan brukes til å finne den kjendisen som ligner mest på deg!"
   ],
   "metadata": {}
  },
  {
   "cell_type": "markdown",
   "source": [
    "## Last opp bilde(r)\r\n",
    "For at vi skal kunne finne den kjendisen som modellen mener ligner mest på deg må vi gi den et bilde av deg som vi kan bruke for sammenligning.  \r\n",
    "Dersom du ønsker kan du laste opp et eller flere bilder i mappen *dine_opplastninger*. Disse vil bli gitt til modellen for sammenligning med alle bildene som ligger i mappen *bilder_kjendiser*.  \r\n",
    "\r\n",
    "**Dette er selvsagt helt frivillig! Vi vil ikke lagre disse bildene noe sted i etterkant.**\r\n",
    "\r\n",
    "Dersom du har lastet opp et eller flere bilder i mappen kan du kjøre koden i boksen under for å gjøre klar bildene for modellen. Som du kanskje husker fra tidligere så er det viktig at bildene er av samme størrelse og kun av ansiktet ditt. Første steget er defor å bruke en maskinlæringsmodell til å finne ansiktet ditt i bildet og klippe det ut til riktig størrelse.  \r\n",
    "\r\n",
    "La oss hvordan de ble seende ut!"
   ],
   "metadata": {}
  },
  {
   "cell_type": "code",
   "execution_count": 2,
   "source": [
    "lokasjon_ansikter = finn_ansikter(lokasjon_bilder=\"dine_opplastninger\")\r\n",
    "vis_bilder(lokasjon_ansikter)"
   ],
   "outputs": [
    {
     "output_type": "stream",
     "name": "stderr",
     "text": [
      "c:\\Users\\slarsen\\Documents\\Git\\tenk\\tenk_env\\lib\\site-packages\\torch\\nn\\functional.py:718: UserWarning: Named tensors and all their associated APIs are an experimental feature and subject to change. Please do not use them for anything important until they are released as stable. (Triggered internally at  ..\\c10/core/TensorImpl.h:1156.)\n",
      "  return torch.max_pool2d(input, kernel_size, stride, padding, dilation, ceil_mode)\n"
     ]
    },
    {
     "output_type": "stream",
     "name": "stdout",
     "text": [
      "Fant ansikt i bilde \"20210716_154837.jpg\"\n",
      "Fant ansikt i bilde \"20210727_095613.jpg\"\n",
      "Fant ansikt i bilde \"20210727_110908.jpg\"\n",
      "Fant ansikt i bilde \"20210727_110910.jpg\"\n",
      "Fant ansikt i bilde \"20210731_145851.jpg\"\n",
      "Fant ansikt i bilde \"20210731_145856.jpg\"\n"
     ]
    },
    {
     "output_type": "display_data",
     "data": {
      "text/plain": [
       "<IPython.core.display.Image object>"
      ],
      "image/jpeg": "[encoded data removed]"
     },
     "metadata": {}
    },
    {
     "output_type": "display_data",
     "data": {
      "text/plain": [
       "<IPython.core.display.Image object>"
      ],
      "image/jpeg": "[encoded data removed]"
     },
     "metadata": {}
    },
    {
     "output_type": "display_data",
     "data": {
      "text/plain": [
       "<IPython.core.display.Image object>"
      ],
      "image/jpeg": "[encoded data removed]"
     },
     "metadata": {}
    },
    {
     "output_type": "display_data",
     "data": {
      "text/plain": [
       "<IPython.core.display.Image object>"
      ],
      "image/jpeg": "[encoded data removed]"
     },
     "metadata": {}
    },
    {
     "output_type": "display_data",
     "data": {
      "text/plain": [
       "<IPython.core.display.Image object>"
      ],
      "image/jpeg": "[encoded data removed]"
     },
     "metadata": {}
    },
    {
     "output_type": "display_data",
     "data": {
      "text/plain": [
       "<IPython.core.display.Image object>"
      ],
      "image/jpeg": "[encoded data removed]"
     },
     "metadata": {}
    }
   ],
   "metadata": {}
  },
  {
   "cell_type": "markdown",
   "source": [
    "Nå som bildene er på rett format kan vi gjøre de tilgjengelige for modellen til å analysere. Kjør koden i boksen under for å laste inn bildene."
   ],
   "metadata": {}
  },
  {
   "cell_type": "code",
   "execution_count": null,
   "source": [
    "dine_bilder = last_inn_bilder(lokasjon_ansikter)"
   ],
   "outputs": [],
   "metadata": {}
  },
  {
   "cell_type": "markdown",
   "source": [
    "## Beregn likhet\r\n",
    "Nå som dataen er klar kan vi beregne likheten mellom ditt/dine bilder og bildene vi har av kjendisene.  \r\n",
    "Er du spent?\r\n",
    "\r\n",
    "**Obs!** Dette kan ta noen minutter."
   ],
   "metadata": {}
  },
  {
   "cell_type": "code",
   "execution_count": null,
   "source": [
    "likhet = beregn_likhet(modell, kjendis_datasett=datasett, dine_bilder=dine_bilder)"
   ],
   "outputs": [],
   "metadata": {}
  },
  {
   "cell_type": "markdown",
   "source": [
    "## Vis resultatet\r\n",
    "Vi har nå funnet den kjendisen som modellen mener ligner mest på deg.  \r\n",
    "La oss se hvem den fant!"
   ],
   "metadata": {}
  },
  {
   "cell_type": "code",
   "execution_count": null,
   "source": [
    "vis_resultater(likhet)"
   ],
   "outputs": [],
   "metadata": {}
  },
  {
   "cell_type": "markdown",
   "source": [
    "## Dine vurderinger\r\n",
    "Hvordan ble resultatet?  \r\n",
    "Synes du dere ligner?  \r\n",
    "Hva tenker du kan være utfordringen for slike systemer?  \r\n",
    "\r\n",
    "Vi skal diskutere dette litt etterpå så gjør deg gjerne opp noen tanker!"
   ],
   "metadata": {}
  }
 ],
 "metadata": {
  "orig_nbformat": 4,
  "language_info": {
   "name": "python",
   "version": "3.6.8",
   "mimetype": "text/x-python",
   "codemirror_mode": {
    "name": "ipython",
    "version": 3
   },
   "pygments_lexer": "ipython3",
   "nbconvert_exporter": "python",
   "file_extension": ".py"
  },
  "kernelspec": {
   "name": "python3",
   "display_name": "Python 3.6.8 64-bit ('tenk_env': venv)"
  },
  "interpreter": {
   "hash": "57429d3b74827d702e8e2e5791ec7a19d83902ac9a4758c7d15f370d77f1cb81"
  }
 },
 "nbformat": 4,
 "nbformat_minor": 2
}