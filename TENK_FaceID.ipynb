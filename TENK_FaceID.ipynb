{
  "nbformat": 4,
  "nbformat_minor": 0,
  "metadata": {
    "orig_nbformat": 4,
    "language_info": {
      "name": "python",
      "version": "3.6.8",
      "mimetype": "text/x-python",
      "codemirror_mode": {
        "name": "ipython",
        "version": 3
      },
      "pygments_lexer": "ipython3",
      "nbconvert_exporter": "python",
      "file_extension": ".py"
    },
    "kernelspec": {
      "name": "python3",
      "display_name": "Python 3.6.8 64-bit ('tenk_env': venv)"
    },
    "interpreter": {
      "hash": "57429d3b74827d702e8e2e5791ec7a19d83902ac9a4758c7d15f370d77f1cb81"
    },
    "colab": {
      "name": "TENK_FaceID.ipynb",
      "provenance": []
    },
    "accelerator": "GPU"
  },
  "cells": [
    {
      "cell_type": "markdown",
      "metadata": {
        "id": "c8DLYqvuQBO9"
      },
      "source": [
        "![TENK Tech - Face ID - Capgemini](utils/materials/header.png \"TENK Tech - Face ID - Capgemini\")\n",
        "# Velkommen til Capgeminis sesjon om maskinlæring og FaceID\n",
        "\n",
        "Vi i Capgemini sin avdeling for innsikt og data jobber hver dag med å hjelpe selskaper og bedrifter med å hente ut mer informasjon og kunnskap fra den dataen de har slik at de kan ta bedre beslutninger, og automatisere, optimalisere og effektivesere prosesser.\n",
        "\n",
        "I dag skal dere få bli litt bedre kjent med hvordan vi jobber med kunstig intelligens og maskinlæring. Vi skal innom temaer som:\n",
        "* Metoder for hvordan man utvikler en maskinlærinsmodell\n",
        "* Klargjøring av data\n",
        "* Trening av modeller\n",
        "* Testing av modeller\n",
        "\n",
        "Vi håper dere finner dette spennende og at dere får lyst til å være med å utvikle morgendagens løsninger ved hjelp av kunstig intelligens og maskinlæring!"
      ]
    },
    {
      "cell_type": "markdown",
      "metadata": {
        "id": "ifoYtdmfQBO_"
      },
      "source": [
        "## Før vi kan sette i gang må vi sette opp kodemiljøet vi skal bruke"
      ]
    },
    {
      "cell_type": "markdown",
      "metadata": {
        "id": "THHuRzIUQBO_"
      },
      "source": [
        "Følg stegene nedenfor så er vi straks klar til å starte!\n",
        "\n",
        "<ol style=\"font-size:1.2em;\">\n",
        "    <li>Finn Runtime i menylinjen ovenfor</li>\n",
        "    <img src=\"https://github.com/SimeNor/tenk/blob/main/utils/materials/dropdown2.png?raw=1\" alt=\"Finn Runtime i menylinjen\" width=\"400\" />\n",
        "    <li>Trykk på *Change runtime type*</li>\n",
        "    <li>Velg GPU</li>\n",
        "    <img src=\"https://github.com/SimeNor/tenk/blob/main/utils/materials/gpu2.png?raw=1\" alt=\"Velg GPU\" width=\"400\"/>\n",
        "    <li>Kjør koden nedenfor ved å klikke et eller annet sted i boksen og trykke på *Ctrl + Enter*</li>\n",
        "    <ul>\n",
        "        <li> Her vil det muligens dukke opp et <i>Warning</i> vindu som vist nedenfor. Trykk da på <b style=\"color:#4487f4;\">Run anyway</b>.</li>\n",
        "        <img style=\"margin-top:1em;\" src=\"https://github.com/SimeNor/tenk/blob/main/utils/materials/warning.png?raw=1\" alt=\"Warning vindu\" width=\"550\"/>\n",
        "    </ul>\n",
        "</ol>\n"
      ]
    },
    {
      "cell_type": "code",
      "metadata": {
        "id": "lphzciSPQBPA"
      },
      "source": [
        "import os\n",
        "os.system(\"git clone https://github.com/SimeNor/tenk.git\") ;\n",
        "from tenk.utils.init_setup import setup\n",
        "setup() ;\n",
        "from utils.moduler import *\n",
        "from trening.trening import *"
      ],
      "execution_count": null,
      "outputs": []
    },
    {
      "cell_type": "markdown",
      "metadata": {
        "id": "-ta9oSk9QBPB"
      },
      "source": [
        "# La oss komme i gang!"
      ]
    },
    {
      "cell_type": "markdown",
      "metadata": {
        "id": "GlncXTz9QBPB"
      },
      "source": [
        "---\n",
        "\n",
        "Første steg ved utvikling av enhver maskinlæringsmodell er å.."
      ]
    },
    {
      "cell_type": "markdown",
      "metadata": {
        "id": "Ul104q8-QBPB"
      },
      "source": [
        "# <img src=\"https://github.com/SimeNor/tenk/blob/main/utils/materials/skaff_bilder.png?raw=1\" class=\"center\" alt=\"Hente inn data\" width=\"80\" />1. Hente inn data\n",
        "\n",
        "Det aller viktigste når man arbeider med maskinlæring er dataen. Første steg er derfor å skaffe mye god data vi kan trene modellen vår på.\n",
        "\n",
        "I vårt FaceID eksempel er det et par ting vi må passe spesielt på. Bildene må blant annet være:\n",
        "- Av samme størrelse\n",
        "- Av ansiktene til forskjellig mennesker\n",
        "- Sortert på en måte som gjør at vi vet hvilke bilder som er av forskjellige personer.\n",
        "\n",
        "Å skaffe data er en av de mest tidkrevene delene ved maskinlæring så vi har gjort klar en mappe med bilder for dere.\n",
        "Denne heter *bilder_kjendiser* som ligger under *tenk* mappen.\n",
        "\n",
        "For å få opp filer og mapper. Trykk på knappen i menylinjen på venstre side som vist i bildet nedenfor.\n",
        "\n",
        "<img style=\"margin-top:1em;\" src=\"https://github.com/SimeNor/tenk/blob/main/utils/materials/bar.png?raw=1\" alt=\"Warning vindu\" width=\"50\"/>\n",
        "\n",
        "Finner du mappen?  \n",
        "\n",
        "Tast inn mappenavnet nedenfor sånn at vi kan bruke bildene til å trene en maskinlæringsmodell senere."
      ]
    },
    {
      "cell_type": "code",
      "metadata": {
        "id": "SaysvPHOQBPC"
      },
      "source": [
        "# Sett inn navnet til mappen med bilder av kjendiser\n",
        "lokasjon_bilder = ''"
      ],
      "execution_count": null,
      "outputs": []
    },
    {
      "cell_type": "markdown",
      "metadata": {
        "id": "MDGe7dTYQBPC"
      },
      "source": [
        "# <img src=\"https://github.com/SimeNor/tenk/blob/main/utils/materials/analyser_bilder.png?raw=1\" class=\"center\" alt=\"Analyser dataen\" width=\"80\" />2. Analyser dataen\n",
        "En annen viktig del når man skal utvikle en maskinlæringsmodell er å bli kjent med dataen.  \n",
        "\n",
        "Ta gjerne en titt i mappen og se hva du finner.  \n",
        "Ser du..\n",
        "* Nummererte mapper med bilder av forskjellige kjendiser?\n",
        "* Mange forskjellige bilder for hver kjendis?\n",
        "* Kjenner du igjen noen kjendiser?\n",
        "\n",
        "La oss vise noen bilder nedenfor slik at vi kan se om bildene ser korrekt ut."
      ]
    },
    {
      "cell_type": "code",
      "metadata": {
        "id": "KiOBd3uyQBPD"
      },
      "source": [
        "# La oss vise noen bilder fra mappen\n",
        "vis_bilder(lokasjon_bilder, antall_bilder_totalt=5, antall_bilder_per_kjendis=1)"
      ],
      "execution_count": null,
      "outputs": []
    },
    {
      "cell_type": "markdown",
      "metadata": {
        "id": "BEv8w3-gQBPD"
      },
      "source": [
        "## Gjør dataen tilgjengelig for bruk\n",
        "Nedenfor lar vi maskinen laste inn bildene slik at vi kan trene modellen på de.  \n",
        "Legg merke til antall bilder, det burde være mer enn 20 000. Stemmer dette?"
      ]
    },
    {
      "cell_type": "code",
      "metadata": {
        "id": "CkAWyMlPQBPD"
      },
      "source": [
        "# Klargjør dataen\n",
        "datasett = last_inn_bilder(lokasjon_bilder)"
      ],
      "execution_count": null,
      "outputs": []
    },
    {
      "cell_type": "markdown",
      "metadata": {
        "id": "4_lUvidCQBPD"
      },
      "source": [
        "# <img src=\"https://github.com/SimeNor/tenk/blob/main/utils/materials/tren_modell.png?raw=1\" class=\"center\" alt=\"Tren en modell\" width=\"80\" />3. Tren en modell\n",
        "Med dataen klar kan vi nå begynne med treningen av modellen.  \n",
        "\n",
        "Det finnes mange forskjellige modeller, og som alle oss her så er de mer eller mindre forskjellige. Noen er gode til en ting, mens andre er gode til noe helt annet.\n",
        "\n",
        "Nedenfor har vi klargjort en modell som fungerer godt for vår FaceID eksempel. Last ned modellen ved å kjøre koden i boksen nedenfor.  \n",
        "Dukket det opp en modell?"
      ]
    },
    {
      "cell_type": "code",
      "metadata": {
        "id": "K_eSLcnmQBPE"
      },
      "source": [
        "modell = last_ned_modell()"
      ],
      "execution_count": null,
      "outputs": []
    },
    {
      "cell_type": "markdown",
      "metadata": {
        "id": "kEbvoHx0QBPE"
      },
      "source": [
        "Når vi skal trene en modell er det flere ting vi må bestemme. Valgene vi tar vil ofte påvirke hvor god modellen vår blir til å løse oppgaven sin. I vårt tilfelle er dette hvor god den er til å identifisere mennersker fra bilder av ansiktene deres.\n",
        "\n",
        "Noen eksempler på ting som må bestemmes er følgende **parametre**:\n",
        "* Treningsiterasjoner - Hvor mange ganger modellen skal få lov til å trene på dataen.\n",
        "* Størrelse på treningsgrupper - Hvor mange bilder en modell skal få se før den kan lære noe fra observasjonene den gjorde.\n",
        "* Læringsraten - Hvor mye modellen skal lære fra hver treningsgruppe av bilder.\n",
        "\n",
        "I boksen nedenfor har vi satt et eksempel for slike verdier. Du skal senere få teste med dine egne verdier.\n",
        "\n",
        "> **!Tips:**\n",
        "> Sett tallene innenfor følgende områder:\n",
        "> * Læringsraten ->  [0.0000001 , 0.01]\n",
        "> * Treningsiterasjoner  ->  [3 , 12]\n",
        "> * størrelse_treningsgrupper  ->  [8 , 128]\n"
      ]
    },
    {
      "cell_type": "code",
      "metadata": {
        "id": "pnQDdPsVQBPF"
      },
      "source": [
        "læringsrate = 0.001\n",
        "treningsiterasjoner = 1\n",
        "størrelse_treningsgrupper = 64"
      ],
      "execution_count": null,
      "outputs": []
    },
    {
      "cell_type": "markdown",
      "metadata": {
        "id": "CLyJb-vSQBPF"
      },
      "source": [
        "## Dele opp dataen i trening- og testsett\n",
        "For at vi skal kunne si om modellen har lært noe må vi dele opp dataen vår i et treningssett og et testsett.  \n",
        "\n",
        "Under trening lærer modellen av eksemplene den ser fra treningsdatasettet. Når den har trent en stund kan vi se hvordan den gjør det på testsettet. Testsettet inneholder bilder som modellen ikke har sett før. På denne måten må modellen lære seg oppgaven den skal løse, og kan ikke bare pugge bildene den ser under trening. Det er litt som på skolen. Pugge fasiten på fjorårets prøve er sjeldent en god måte å øve til årets prøve.\n",
        "\n",
        "Det er viktig å vise modellen så mye data som mulig for trening slik at den får trent godt. Samtidig er det viktig at testsettet ikke har for få bilder. Dersom det er få bilder i testsettet vet vi ikke om modellen har lært noe eller om den bare hadde flaks på de få bildene den ble testet på.\n",
        "\n",
        "Her vil vi bruke 80% av bildene til trening av modellen og 20% til testing."
      ]
    },
    {
      "cell_type": "code",
      "metadata": {
        "id": "FKVPDo_cQBPF"
      },
      "source": [
        "andel_test = 0.2\n",
        "\n",
        "trening_data, test_data = del_opp_datasett(datasett, andel_test, størrelse_treningsgrupper)"
      ],
      "execution_count": null,
      "outputs": []
    },
    {
      "cell_type": "markdown",
      "metadata": {
        "id": "c-Pb07xURA1M"
      },
      "source": [
        "## Sette opp treningsalgoritme\n",
        "For å trene en maskinlæringsalgoritme er det tre viktige steg som gjentas i hver iterasjon for at modellen skal kunne gjøre prediksjoner og lære av sine feil.\n",
        "\n",
        "1.   Gjøre *prediksjoner* ut fra et sett med eksempler som blir vist til modellen. Her skal maskinlæringsmodellen gjette på hvilken person den ser.\n",
        "2.   Sammenligne *prediksjoner* med *fasit* og bruke dette til å beregne et *avvik*, som også kan beskrives som hvor riktig eller feil modellen tok.\n",
        "3.   *Oppdatere modellen* basert på hvor stort avviket var mellom prediksjonen som modellen gjorde og fasiten. På denne måten vil den sakte men sikkert bli mer presis og gjøre mindre feil ved neste forsøk.\n",
        "\n",
        "På slutten av hver iterasjon vil vi også gjøre en test av modellen på testsettet for å kunne se hvor mye den har forbedret seg op dataen som den ikke har lov til å lære av.\n",
        "\n",
        "<br/><br/>\n",
        "\n",
        "For å starte treningen av modellen må vi sette opp to funksjoner som vil brukes til å gjennomføre treningen:\n",
        "\n",
        "*   **tren_modell():** Denne funksjonen skal stå for den overordnede treningen av modellen og gjøre testing mellom hver iterasjon\n",
        "*   **kjør_iterasjon():** For hver iterasjon er det flere steg som må gjentas (gjøre prediksjoner, sammenligne med fakta og oppdatere model). Denne funksjonen brukes for hver gang man vil trene eller teste modellen i \"tren_modell()\"-funksjonen\n",
        "\n",
        "Vi har satt opp skallet for koden i de to funksjonene, men det er noen viktige deler som fortsatt skal fylles ut! Disse områdene er markert i koden.\n",
        "\n",
        "\n",
        "Det er også satt opp noen hjelpefunksjoner som det er lurt å bruke for å fullføre koden, se listen under for noen gode tips :)\n",
        "\n",
        "\n",
        "\n",
        "*   **generer_prediksjoner(modell, eksempler)**\n",
        "    * Denne funksjonen bruker modellen og et sett med eksempler til å finne ut hvilken person som er avbildet\n",
        "    * Funksjonen returnerer en prediksjon for hvert eksempel med sannsynlighet på hvilken person det kan være\n",
        "*   **sammenlign_med_fakta(fakta, prediksjoner, avviksfunksjon)**\n",
        "    * Ved å sammenlige med det som er fakta måler funksjonen hvor stor forskjell det er til prediksjonene med en avviksfunksjon\n",
        "    * Funksjonen returnerer hvor feil modellen tok i hvert eksempel\n",
        "*   **oppdater_modell(avvik, optimizer)**\n",
        "    * Den siste funksjonen tar inn avvikene for hvert eksempel og oppdaterer modellen basert på hvor den tok feil\n",
        "    * Funksjonen returnerer ingenting, men modellen blir oppdatert\n",
        "\n",
        "\n",
        "\n"
      ]
    },
    {
      "cell_type": "code",
      "metadata": {
        "id": "gJsM7Sr4Q59w"
      },
      "source": [
        "def kjør_iterasjon(data, modell, avviksfunksjon, optimizer, batch_metrics):\n",
        "    global device\n",
        "    mode = 'Train' if modell.training else 'Test'\n",
        "    logger = training.Logger(mode, length=len(data), calculate_mean=True)\n",
        "    totalt_avvik = 0\n",
        "    metrics = {}\n",
        "\n",
        "    for i, (eksempler, fakta) in enumerate(data):\n",
        "        eksempler, fakta = eksempler.to(device), fakta.to(device)\n",
        "\n",
        "        #######################################################################################\n",
        "        # På radene under er det markert hvor vi må fylle ut med en \"#\"\n",
        "        #######################################################################################\n",
        "\n",
        "        \"\"\"\n",
        "        Først må vi bruke modellen til å gjøre prediksjoner med de eksemplene som vises\n",
        "        \"\"\"\n",
        "        prediksjoner = # Bruk funksjon for å gjøre prediksjoner med dataen\n",
        "\n",
        "        \"\"\"\n",
        "        Prediksjonene sammenlignes med faktaen fra datasettet for å se hvor stort avviket er\n",
        "        \"\"\"\n",
        "        avvik = # Bruk funksjonen for å sammenligne fakta mot prediksjoner og spesifiser hvordan dette skal beregnes\n",
        "\n",
        "        if modell.training:\n",
        "            \"\"\"\n",
        "            Når modellen er satt i treningsmodus skal vi oppdatere den basert på avvikene vi finner\n",
        "            \n",
        "            HINT: Det er en egen funksjon for å oppdatere modellen\n",
        "            \"\"\"\n",
        "            # Bruk avvikene du fant for gruppen og en optimizer til å gjøre oppdateringer\n",
        "\n",
        "        #######################################################################################\n",
        "        # Slutt på oppgaven, resten av koden kan bli stående som det er\n",
        "        #######################################################################################\n",
        "\n",
        "\n",
        "        metrics_batch = {}\n",
        "        for metric_name, metric_fn in batch_metrics.items():\n",
        "            metrics_batch[metric_name] = metric_fn(prediksjoner, fakta).detach().cpu()\n",
        "            metrics[metric_name] = metrics.get(metric_name, 0) + metrics_batch[metric_name]\n",
        "\n",
        "        avvik = avvik.detach().cpu()\n",
        "        totalt_avvik += avvik\n",
        "\n",
        "        logger(totalt_avvik, metrics, i)\n",
        "\n",
        "    totalt_avvik = totalt_avvik / (i + 1)\n",
        "    metrics = {k: v / (i + 1) for k, v in metrics.items()}\n",
        "\n",
        "    return avvik, metrics"
      ],
      "execution_count": null,
      "outputs": []
    },
    {
      "cell_type": "code",
      "metadata": {
        "id": "AO9U-FgQQ52Y"
      },
      "source": [
        "def tren_modell(modell, trening_data, læringsrate:float, treningsiterasjoner:int, test_data=None):\n",
        "    optimizer = optim.Adam(modell.parameters(), lr=læringsrate)\n",
        "    avviksfunksjon, treffsikkerhet_funksjon = loss_metrics()\n",
        "\n",
        "    for epoch in range(treningsiterasjoner):\n",
        "        print('\\nEpoch {}/{}'.format(epoch + 1, treningsiterasjoner))\n",
        "        print('-' * 10)\n",
        "\n",
        "        #######################################################################################\n",
        "        # På radene under er det markert hvor vi må fylle ut med en \"#\"\n",
        "        #######################################################################################\n",
        "\n",
        "        \"\"\"\n",
        "        Første steg i hver iterasjon er å gjøre treningen av modellen. Modellen settes til treningsmodus\n",
        "        Sett inn riktig datasett for å trene opp ML-modellen\n",
        "        \"\"\"\n",
        "        modell.train()\n",
        "        avvik, metrics = kjør_iterasjon(# Sett inn riktig datasett her!\n",
        "                                       , modell, avviksfunksjon, optimizer, treffsikkerhet_funksjon)\n",
        "\n",
        "        \"\"\"\n",
        "        Deretter skal vi teste modellen på data den ikke har fått lære av. Modellen settes til evalueringsmodus\n",
        "        \n",
        "        Sett inn riktig datasett for å teste ML-modellen\n",
        "        \"\"\"\n",
        "        if test_data is not None:\n",
        "            modell.eval()\n",
        "            avvik, metrics = kjør_iterasjon(# Sett inn riktig datasett her!\n",
        "                                            , modell, avviksfunksjon, optimizer, treffsikkerhet_funksjon)\n",
        "\n",
        "        #######################################################################################\n",
        "        # Slutt på oppgaven, resten kan bli stående som det er\n",
        "        #######################################################################################\n",
        "\n",
        "    return modell"
      ],
      "execution_count": null,
      "outputs": []
    },
    {
      "cell_type": "markdown",
      "metadata": {
        "id": "hpbTBx64W-ln"
      },
      "source": [
        "Vi setter også opp en funksjon for å bare teste modellen \n",
        "\n",
        "Her trenger vi ikke å endre på noe, men kjør cellen ved å trykke *Ctrl + Enter*"
      ]
    },
    {
      "cell_type": "code",
      "metadata": {
        "id": "mYCgtKbkW1Yl"
      },
      "source": [
        "def test_modell(modell, data):\n",
        "    avvik_funksjon, treffsikkerhet_funksjon = loss_metrics()\n",
        "\n",
        "    modell.eval()\n",
        "    avvik, metrics = kjør_iterasjon(data, modell, avvik_funksjon, optimizer=None, batch_metrics=treffsikkerhet_funksjon)"
      ],
      "execution_count": null,
      "outputs": []
    },
    {
      "cell_type": "markdown",
      "metadata": {
        "id": "_Kq6yW6JQBPF"
      },
      "source": [
        "## Tren modellen\n",
        "Når vi nå har delt opp dataen og gjort klar koden kan vi trene vår første modell.\n",
        "La oss trene modellen på treningssettet 1 gang og se hvordan den gjør det.\n",
        "\n",
        "Ser du hvordan *treffsikkerheten* utvikler seg? Dette er hvor godt modellen gjør det på treningssettet."
      ]
    },
    {
      "cell_type": "code",
      "metadata": {
        "id": "A0DLjenqQBPF"
      },
      "source": [
        "modell = tren_modell(\n",
        "    modell=modell,\n",
        "    trening_data=trening_data,\n",
        "    læringsrate=læringsrate,\n",
        "    treningsiterasjoner=treningsiterasjoner\n",
        "    )"
      ],
      "execution_count": null,
      "outputs": []
    },
    {
      "cell_type": "markdown",
      "metadata": {
        "id": "43uOQCaQQBPF"
      },
      "source": [
        "# <img src=\"https://github.com/SimeNor/tenk/blob/main/utils/materials/test_modell.png?raw=1\" class=\"center\" alt=\"Tren en modell\" width=\"80\" />4. Test modellen\n",
        "Nå har vi trent en modellen på treningssettet 1 gang. La oss se hvordan den gjør det på testsettet.  \n",
        "Ser det lovende ut?"
      ]
    },
    {
      "cell_type": "code",
      "metadata": {
        "id": "rB0T4lu8QBPG"
      },
      "source": [
        "test_modell(modell, data=test_data)\n",
        "\n",
        "del modell, datasett, trening_data, test_data, læringsrate, treningsiterasjoner, størrelse_treningsgrupper"
      ],
      "execution_count": null,
      "outputs": []
    },
    {
      "cell_type": "markdown",
      "metadata": {
        "id": "DlHIswQSQBPG"
      },
      "source": [
        "# <img src=\"https://github.com/SimeNor/tenk/blob/main/utils/materials/videreutvikle.png?raw=1\" class=\"center\" alt=\"Videreutvikling\" width=\"80\" />5. Videreutvikling - Konurranse \n",
        "Da har vi kommet til dagens utfordring!\n",
        "\n",
        "Her skal vi se hva dere har lært, og se hvem som klarer å designe den beste modellen.\n",
        "\n",
        "Oppgaven består av to steg:\n",
        "<ol>\n",
        "   <li>Sett opp alle stegene for å trene en modell i rett rekkefølge.</li>\n",
        "   <ol>\n",
        "      <li>Flytt boksene nedenfor i korrekt rekkefølge ved bruk av pilene funnet på øvre høyre hjørnet av boksen som vist i bildet under.</li>\n",
        "      <img style=\"margin-top:1em;\" src=\"https://github.com/SimeNor/tenk/blob/main/utils/materials/arrows.png?raw=1\" alt=\"Warning vindu\" width=\"300\"/>\n",
        "      <li> Kjør så boksene i kronologisk rekkefølge.</li>\n",
        "   </ol>\n",
        "   <li> Juster <u>parametrene</u> slik at du får best mulig <i>treffsikkerhet</i>.</li>\n",
        "   <ul>\n",
        "      <li><i>Treffsikkerhet går fra 0 til 1. 0 = 0% korrekt, 1 = 100% korrekt.</i></li>\n",
        "      <li><b>Den med høyest treffsikkerhet vinner!</b></li>\n",
        "   </ul>\n",
        "</ol>\n",
        "\n",
        "**Obs!** *Vi har lagt inn testing for hver treningsiterasjon sånn at dere kan se hvordan modellen gjør det underveis. Testresultatene kan leses under *Valid**\n",
        "\n",
        "**Vinneren blir kåret på slutten av sesjonen!**"
      ]
    },
    {
      "cell_type": "code",
      "metadata": {
        "id": "YVyEl8RWQBPH"
      },
      "source": [
        "# Test modellen\n",
        "test_modell(modell, data=test_data)"
      ],
      "execution_count": null,
      "outputs": []
    },
    {
      "cell_type": "code",
      "metadata": {
        "id": "cIFi5w9JQBPH"
      },
      "source": [
        "# Del opp dataen i trening- og testsett\n",
        "trening_data, test_data = del_opp_datasett(datasett, andel_test, størrelse_treningsgrupper)"
      ],
      "execution_count": null,
      "outputs": []
    },
    {
      "cell_type": "code",
      "metadata": {
        "id": "uOnD6isLQBPI"
      },
      "source": [
        "# Sett parametrene\n",
        "læringsrate = 0.001#Sett inn tall\n",
        "treningsiterasjoner = 1#Sett inn tall\n",
        "størrelse_treningsgrupper = 128 #Sett inn tall"
      ],
      "execution_count": null,
      "outputs": []
    },
    {
      "cell_type": "code",
      "metadata": {
        "id": "G4NyhSRXQBPH"
      },
      "source": [
        "# Last inn bilder\n",
        "datasett = last_inn_bilder(lokasjon_bilder)"
      ],
      "execution_count": null,
      "outputs": []
    },
    {
      "cell_type": "code",
      "metadata": {
        "id": "aYfg97BNQBPG"
      },
      "source": [
        "# Tren modellen\n",
        "modell = tren_modell(\n",
        "    modell=modell,\n",
        "    trening_data=trening_data,\n",
        "    læringsrate=læringsrate,\n",
        "    treningsiterasjoner=treningsiterasjoner,\n",
        "    test_data=test_data\n",
        "    )"
      ],
      "execution_count": null,
      "outputs": []
    },
    {
      "cell_type": "code",
      "metadata": {
        "id": "vykJstO-QBPH"
      },
      "source": [
        "# Klargjør modell\n",
        "modell = last_ned_modell()"
      ],
      "execution_count": null,
      "outputs": []
    },
    {
      "cell_type": "markdown",
      "metadata": {
        "id": "2iSgbIN3QBPI"
      },
      "source": [
        "# <img src=\"https://github.com/SimeNor/tenk/blob/main/utils/materials/celeb.png?raw=1\" class=\"center\" alt=\"Kjendis\" width=\"80\" />5. Bonus - Finn din kjendis!\n",
        "Modellen identifiserer mennesker ved å sammenligne bilder av ansikter og si hvor sansynlig det er at disse bildene er av samme person.\n",
        "\n",
        "La oss se om dette kan brukes til å finne den kjendisen som ligner mest på deg!"
      ]
    },
    {
      "cell_type": "markdown",
      "metadata": {
        "id": "jSB8SEmIQBPI"
      },
      "source": [
        "## Last opp bilde(r)\n",
        "For at vi skal kunne finne den kjendisen som modellen mener ligner mest på deg må vi gi den et bilde av deg som vi kan bruke for sammenligning.  \n",
        "Dersom du ønsker kan du laste opp et eller flere bilder i mappen *dine_opplastninger*. Disse vil bli gitt til modellen for sammenligning med alle bildene som ligger i mappen *bilder_kjendiser*.  \n",
        "\n",
        "**Dette er selvsagt helt frivillig! Vi vil ikke lagre disse bildene noe sted i etterkant.**\n",
        "\n",
        "Dersom du har lastet opp et eller flere bilder i mappen kan du kjøre koden i boksen under for å gjøre klar bildene for modellen. Som du kanskje husker fra tidligere så er det viktig at bildene er av samme størrelse og kun av ansiktet ditt. Første steget er defor å bruke en maskinlæringsmodell til å finne ansiktet ditt i bildet og klippe det ut til riktig størrelse.  \n",
        "\n",
        "La oss hvordan de ble seende ut!"
      ]
    },
    {
      "cell_type": "code",
      "metadata": {
        "id": "MymIGTv4QBPJ"
      },
      "source": [
        "lokasjon_ansikter = finn_ansikter(lokasjon_bilder=\"dine_opplastninger\")\n",
        "vis_bilder(lokasjon_ansikter)"
      ],
      "execution_count": null,
      "outputs": []
    },
    {
      "cell_type": "markdown",
      "metadata": {
        "id": "SivudYNrQBPJ"
      },
      "source": [
        "Nå som bildene er på rett format kan vi gjøre de tilgjengelige for modellen til å analysere. Kjør koden i boksen under for å laste inn bildene."
      ]
    },
    {
      "cell_type": "code",
      "metadata": {
        "id": "mA_cgi6BQBPJ"
      },
      "source": [
        "dine_bilder = last_inn_bilder(lokasjon_ansikter)"
      ],
      "execution_count": null,
      "outputs": []
    },
    {
      "cell_type": "markdown",
      "metadata": {
        "id": "wJKutvwUQBPJ"
      },
      "source": [
        "## Beregn likhet\n",
        "Nå som dataen er klar kan vi beregne likheten mellom ditt/dine bilder og bildene vi har av kjendisene.  \n",
        "Er du spent?\n",
        "\n",
        "**Obs!** Dette kan ta noen minutter."
      ]
    },
    {
      "cell_type": "code",
      "metadata": {
        "id": "mn0E0hcwQBPK"
      },
      "source": [
        "likhet = beregn_likhet(kjendis_datasett=datasett, dine_bilder=dine_bilder)"
      ],
      "execution_count": null,
      "outputs": []
    },
    {
      "cell_type": "markdown",
      "metadata": {
        "id": "EOkqNoiNQBPK"
      },
      "source": [
        "## Vis resultatet\n",
        "Vi har nå funnet den kjendisen som modellen mener ligner mest på deg.  \n",
        "La oss se hvem den fant!"
      ]
    },
    {
      "cell_type": "code",
      "metadata": {
        "id": "pW7BcyiSQBPK"
      },
      "source": [
        "vis_resultater(likhet)"
      ],
      "execution_count": null,
      "outputs": []
    },
    {
      "cell_type": "markdown",
      "metadata": {
        "id": "nOO9WlhrQBPK"
      },
      "source": [
        "## Dine vurderinger\n",
        "Hvordan ble resultatet?  \n",
        "Synes du dere ligner?  \n",
        "Hva tenker du kan være utfordringen for slike systemer?  \n",
        "\n",
        "Vi skal diskutere dette litt etterpå så gjør deg gjerne opp noen tanker!"
      ]
    }
  ]
}