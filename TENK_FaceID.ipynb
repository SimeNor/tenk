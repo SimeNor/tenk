{
 "cells": [
  {
   "cell_type": "code",
   "execution_count": 4,
   "source": [
    "%%capture\r\n",
    "!git clone https://github.com/SimeNor/tenk.git\r\n",
    "import os\r\n",
    "from tenk.utils.init_setup import setup\r\n",
    "setup()\r\n",
    "from utils.moduler import *"
   ],
   "outputs": [],
   "metadata": {}
  },
  {
   "cell_type": "code",
   "execution_count": null,
   "source": [
    "datasett = last_inn_bilder(lokasjon_bilder='Celebs_cropped')\r\n",
    "\r\n",
    "andel_test=0.8\r\n",
    "størrelse_treningsgrupper=64\r\n",
    "\r\n",
    "trenings_data, test_data = del_opp_datasett(\r\n",
    "    datasett=datasett,\r\n",
    "    andel_test=andel_test,\r\n",
    "    størrelse_treningsgrupper=størrelse_treningsgrupper\r\n",
    "    )"
   ],
   "outputs": [],
   "metadata": {}
  },
  {
   "cell_type": "code",
   "execution_count": null,
   "source": [
    "modell = last_ned_modell()"
   ],
   "outputs": [],
   "metadata": {}
  },
  {
   "cell_type": "code",
   "execution_count": null,
   "source": [
    "læringsrate=0.0001\r\n",
    "trenings_iterasjoner=8\r\n",
    "\r\n",
    "modell = tren_modell(\r\n",
    "    modell=modell,\r\n",
    "    data=trenings_data,\r\n",
    "    læringsrate=læringsrate,\r\n",
    "    trenings_iterasjoner=trenings_iterasjoner\r\n",
    "    )"
   ],
   "outputs": [],
   "metadata": {}
  },
  {
   "cell_type": "code",
   "execution_count": null,
   "source": [
    "test_modell(modell, data=test_data)"
   ],
   "outputs": [],
   "metadata": {}
  },
  {
   "cell_type": "code",
   "execution_count": null,
   "source": [
    "læringsrate=0.0001\r\n",
    "trenings_iterasjoner=8\r\n",
    "størrelse_treningsgrupper=64\r\n",
    "\r\n",
    "\r\n",
    "trenings_data, test_data = del_opp_datasett(\r\n",
    "    datasett=datasett,\r\n",
    "    andel_test=andel_test,\r\n",
    "    størrelse_treningsgrupper=størrelse_treningsgrupper\r\n",
    "    )\r\n",
    "\r\n",
    "modell = last_ned_modell()\r\n",
    "\r\n",
    "modell = tren_modell(\r\n",
    "    modell=modell,\r\n",
    "    data=trenings_data,\r\n",
    "    læringsrate=læringsrate,\r\n",
    "    trenings_iterasjoner=trenings_iterasjoner,\r\n",
    "    test_data=test_data\r\n",
    "    )"
   ],
   "outputs": [],
   "metadata": {}
  },
  {
   "cell_type": "code",
   "execution_count": null,
   "source": [
    "lokasjon_ansikter = finn_ansikter(lokasjon_bilder=\"dine_opplastninger\")"
   ],
   "outputs": [],
   "metadata": {}
  },
  {
   "cell_type": "code",
   "execution_count": null,
   "source": [
    "lokasjon_ansikter = 'dine_ansikter/dine_opplastninger'"
   ],
   "outputs": [],
   "metadata": {}
  },
  {
   "cell_type": "code",
   "execution_count": null,
   "source": [
    "vis_bilder(lokasjon_bilder=lokasjon_ansikter)"
   ],
   "outputs": [],
   "metadata": {}
  },
  {
   "cell_type": "code",
   "execution_count": null,
   "source": [
    "dine_bilder = last_inn_bilder(lokasjon_ansikter)"
   ],
   "outputs": [],
   "metadata": {}
  },
  {
   "cell_type": "code",
   "execution_count": null,
   "source": [
    "likhet = beregn_likhet(modell, kjendis_datasett=datasett, dine_bilder=dine_bilder)"
   ],
   "outputs": [],
   "metadata": {}
  },
  {
   "cell_type": "code",
   "execution_count": null,
   "source": [
    "vis_resultater(likhet)"
   ],
   "outputs": [],
   "metadata": {}
  },
  {
   "cell_type": "code",
   "execution_count": null,
   "source": [],
   "outputs": [],
   "metadata": {}
  }
 ],
 "metadata": {
  "orig_nbformat": 4,
  "language_info": {
   "name": "python",
   "version": "3.6.8",
   "mimetype": "text/x-python",
   "codemirror_mode": {
    "name": "ipython",
    "version": 3
   },
   "pygments_lexer": "ipython3",
   "nbconvert_exporter": "python",
   "file_extension": ".py"
  },
  "kernelspec": {
   "name": "python3",
   "display_name": "Python 3.6.8 64-bit ('tenk_env': venv)"
  },
  "interpreter": {
   "hash": "57429d3b74827d702e8e2e5791ec7a19d83902ac9a4758c7d15f370d77f1cb81"
  }
 },
 "nbformat": 4,
 "nbformat_minor": 2
}